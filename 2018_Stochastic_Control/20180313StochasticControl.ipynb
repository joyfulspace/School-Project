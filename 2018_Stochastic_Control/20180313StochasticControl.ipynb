{
 "cells": [
  {
   "cell_type": "markdown",
   "metadata": {},
   "source": [
    "2017.09.14 Stochastic Control  -  Gyeeun Jeong"
   ]
  },
  {
   "cell_type": "markdown",
   "metadata": {},
   "source": [
    "## How to maximize $E[V(W_{T})]$ ?"
   ]
  },
  {
   "cell_type": "markdown",
   "metadata": {},
   "source": [
    "\\begin{equation}\n",
    "Max \\ E[V(W_T)] = Max \\ \\sum_{k=0}^{n} {}_n C_k p^{n-k}(1-p)^k V(W_k)\n",
    "\\end{equation}"
   ]
  },
  {
   "cell_type": "markdown",
   "metadata": {},
   "source": [
    "### Assumption\n",
    "- path independency\n",
    "- time consistency\n",
    "- complete market (only for Lagrangian Approach)"
   ]
  },
  {
   "cell_type": "markdown",
   "metadata": {},
   "source": [
    "### 1. Lagrangian Approach"
   ]
  },
  {
   "cell_type": "markdown",
   "metadata": {},
   "source": [
    "\\begin{equation}\n",
    "L = \\sum_{k=0}^{n} {}_n C_k p^{n-k}(1-p)^k V(W_k) + \\lambda(W-\\frac{1}{R^n}\\sum_{k=0}^{n} {}_n C_k q^{n-k}(1-q)^k W_k)\n",
    "\\end{equation}"
   ]
  },
  {
   "cell_type": "markdown",
   "metadata": {},
   "source": [
    "Differentiate with  $W_k$\n",
    "\\begin{equation}\n",
    "{}_n C_k p^{n-k}(1-p)^k V'(W_k) - \\frac{\\lambda}{R^n}{}_n C_k q^{n-k}(1-q)^k =0 \\\\\n",
    "V'(W_k) = \\frac{\\lambda q^{n-k}(1-q)^k}{R^n p^{n-k}(1-p)^k } \\\\\n",
    "W_k^* = (V')^{-1}(\\frac{\\lambda q^{n-k}(1-q)^k}{R^n p^{n-k}(1-p)^k}) \\\\\n",
    "\\end{equation}"
   ]
  },
  {
   "cell_type": "markdown",
   "metadata": {},
   "source": [
    "$W=\\frac{1}{R^n}\\sum_{k=0}^{n} {}_n C_k q^{n-k}(1-q)^k W_k^*$  \n",
    "$ \\quad =\\frac{1}{R^n}\\sum_{k=0}^{n} {}_n C_k q^{n-k}(1-q)^k (V')^{-1}(\\frac{\\lambda q^{n-k}(1-q)^k}{R^n p^{n-k}(1-p)^k})$"
   ]
  },
  {
   "cell_type": "markdown",
   "metadata": {},
   "source": [
    "#### 1. CRRA\n",
    "$V(W)=\\frac{W^{1-\\gamma}}{1-\\gamma} \\qquad V'(W)=W^{-\\gamma} \\qquad (V')^{-1}=W^{-\\frac{1}{\\gamma}}$\n",
    "\n",
    "\\begin{equation}\n",
    "W=\\frac{1}{R^n}\\sum_{k=0}^{n} {}_n C_k q^{n-k}(1-q)^k (\\frac{\\lambda q^{n-k}(1-q)^k}{R^n p^{n-k}(1-p)^k})^{-\\frac{1}{\\gamma}} \\\\\n",
    "\\lambda^{\\frac{1}{\\gamma}} = \\frac{1}{R^nW}\\sum_{k=0}^{n} {}_n C_k q^{n-k}(1-q)^k (\\frac{q^{n-k}(1-q)^k}{R^n p^{n-k}(1-p)^k})^{-\\frac{1}{\\gamma}} \\\\\n",
    "\\lambda^{\\frac{1}{\\gamma}} = \\frac{1}{(R^n)^{1-\\frac{1}{\\gamma}}W}\\sum_{k=0}^{n} {}_n C_k q^{n-k}(1-q)^k (\\frac{q^{n-k}(1-q)^k}{p^{n-k}(1-p)^k})^{-\\frac{1}{\\gamma}} \\\\\n",
    "\\lambda = \\frac{1}{(R^n)^{\\gamma-1} W^\\gamma} \\lgroup \\sum_{k=0}^{n} {}_n C_k q^{n-k}(1-q)^k (\\frac{q^{n-k}(1-q)^k}{p^{n-k}(1-p)^k})^{-\\frac{1}{\\gamma}} \\rgroup ^\\gamma\n",
    "\\end{equation}"
   ]
  },
  {
   "cell_type": "markdown",
   "metadata": {},
   "source": [
    "#### 2. CARA\n",
    "$V(W)=-e^{-AW} \\qquad V'(W)=Ae^{-AW} \\qquad (V')^{-1}=-\\frac{1}{A} \\ln\\frac{W}{A}$\n",
    "\n",
    "\\begin{equation}\n",
    "W=\\frac{1}{R^n}\\sum_{k=0}^{n} {}_n C_k q^{n-k}(1-q)^k \\lgroup -\\frac{1}{A} \\ln \\frac{1}{A} \\frac{\\lambda q^{n-k}(1-q)^k}{R^n p^{n-k}(1-p)^k} \\rgroup \\\\\n",
    "W=-\\frac{1}{R^nA}\\sum_{k=0}^{n} {}_n C_k q^{n-k}(1-q)^k \\lgroup { \\ln \\frac{1}{A} \\frac{ q^{n-k}(1-q)^k}{R^n p^{n-k}(1-p)^k} +\\ln \\lambda } \\rgroup \\\\\n",
    "W + \\frac{1}{R^nA}\\sum_{k=0}^{n} {}_n C_k q^{n-k}(1-q)^k \\ln \\frac{1}{A} \\frac{ q^{n-k}(1-q)^k}{R^n p^{n-k}(1-p)^k}  = -\\frac{1}{R^nA}\\sum_{k=0}^{n} {}_n C_k q^{n-k}(1-q)^k \\ln \\lambda \\\\\n",
    "-\\frac {R^nAW + \\sum_{k=0}^{n} {}_n C_k q^{n-k}(1-q)^k \\ln \\frac{1}{A} \\frac{ q^{n-k}(1-q)^k}{R^n p^{n-k}(1-p)^k} } {\\sum_{k=0}^{n} {}_n C_k q^{n-k}(1-q)^k} = \\ln \\lambda \\\\\n",
    "\\lambda = exp ( -\\frac {R^nAW + \\sum_{k=0}^{n} {}_n C_k q^{n-k}(1-q)^k \\ln \\frac{1}{A} \\frac{ q^{n-k}(1-q)^k}{R^n p^{n-k}(1-p)^k} } {\\sum_{k=0}^{n} {}_n C_k q^{n-k}(1-q)^k} ) \\\\\n",
    "\\end{equation}"
   ]
  },
  {
   "cell_type": "markdown",
   "metadata": {},
   "source": [
    "### 2. Dynamic programming Approach"
   ]
  },
  {
   "cell_type": "markdown",
   "metadata": {},
   "source": [
    "$ V(t, W_t) = Max \\ E[V(t+1, W_{t+1})] $ : dynamic programming principle - Bellman  \n",
    "  \n",
    "If we know optimized value function for future, we can calculate current wealth."
   ]
  },
  {
   "cell_type": "markdown",
   "metadata": {},
   "source": [
    "##### Notation  \n",
    "$v(W)$ : given utility function at time $T$  \n",
    "$V(W)$ : calculated utility function at each time"
   ]
  },
  {
   "cell_type": "markdown",
   "metadata": {},
   "source": [
    "At $ \\ T-1$,  \n",
    "$ \\qquad Max \\ E[v(W_T)] = pv(W_{T,u}^*)+(1-p)v(W_{T,d}^*) \\equiv V(T-1, W_{T-1}) $\n",
    "\n",
    "At $ \\ T-2$,  \n",
    "$ \\qquad Max \\ E[V(T-1,W_{T-1})] = pV(T-1,W_{T-1,u}^*)+(1-p)V(T-1,W_{T-1,d}^*) \\equiv V(T-2, W_{T-2}) $\n",
    "\n",
    "$\\quad \\vdots$\n",
    "\n",
    "At $ \\ T-k$,  \n",
    "$ \\qquad Max \\ E[V(T-k+1,W_{T-k+1})] = pV(T-k+1,W_{T-k+1,u}^*)+(1-p)V(T-k+1,W_{T-k+1,d}^*) \\equiv V(T-k, W_{T-k}) $"
   ]
  },
  {
   "cell_type": "markdown",
   "metadata": {},
   "source": [
    "### * Discussion"
   ]
  },
  {
   "cell_type": "markdown",
   "metadata": {},
   "source": [
    "#### 1. path dependency\n",
    "We assume path independency. If we consider tax, the problem can be path dependent.\n",
    "\n",
    "#### 2. rebalancing\n",
    "We can calculated rebalanced $\\pi$ by solving delta.  \n",
    "$ W = \\frac{1}{R} (q_uW_u + q_dW_d) $  $\\rightarrow$  delta  $\\rightarrow$  $\\pi$\n",
    "\n",
    "#### 3. Utility function represents customer's propensity. (portfolio insurance)\n"
   ]
  },
  {
   "cell_type": "markdown",
   "metadata": {},
   "source": [
    "### Homework\n",
    "\n",
    "1. Find $\\pi$ at each period by solving Lagrangian approach  \n",
    "$ \\ $\n",
    "2. Find $\\pi$ at each period according to dynamic programming  \n",
    "$ \\ $\n",
    "3. When $\\Delta t \\rightarrow 0$, does the model converges to Merton's model?  \n",
    "  - reference : Cox Ross Rubinstein, Option Pricing: a simplified approach, Journal of financial approach, 1979    \n",
    "$ \\ $\n",
    "4. Presentation\n",
    " - P Dybvig, HK Koo, Investment with taxes, Washington University, 1996\n",
    " - V DeMiguel, R Uppal, Portfolio investment with the exact tax basis via nonlinear programming, Management Science, 2005"
   ]
  }
 ],
 "metadata": {
  "kernelspec": {
   "display_name": "Python 3",
   "language": "python",
   "name": "python3"
  },
  "language_info": {
   "codemirror_mode": {
    "name": "ipython",
    "version": 3
   },
   "file_extension": ".py",
   "mimetype": "text/x-python",
   "name": "python",
   "nbconvert_exporter": "python",
   "pygments_lexer": "ipython3",
   "version": "3.6.0"
  }
 },
 "nbformat": 4,
 "nbformat_minor": 2
}
