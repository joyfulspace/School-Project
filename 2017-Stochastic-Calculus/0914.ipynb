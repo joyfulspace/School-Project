{
 "cells": [
  {
   "cell_type": "markdown",
   "metadata": {},
   "source": [
    "2017.09.14 Stochastic Calculus  -  Gyeeun Jeong"
   ]
  },
  {
   "cell_type": "markdown",
   "metadata": {},
   "source": [
    "## σ-algebra : Events"
   ]
  },
  {
   "cell_type": "markdown",
   "metadata": {},
   "source": [
    "An event E occurs $\\Leftrightarrow$ We know $w \\in E$ or $w \\notin E$\n"
   ]
  },
  {
   "cell_type": "markdown",
   "metadata": {},
   "source": [
    "## Random variable "
   ]
  },
  {
   "cell_type": "markdown",
   "metadata": {},
   "source": [
    "$X : \\Omega \\rightarrow \\mathbb{R}$  \n",
    "  \n",
    "#### 1. number of $X(\\Omega) \\geq 2$  \n",
    "$$X(\\Omega) = \\{ y \\in \\mathbb{R} : \\exists w \\in \\Omega,\\space such \\space that \\space y = X(w) \\} $$\n",
    "   \n",
    "#### 2. $\\forall a \\in X(\\Omega)$  \n",
    "$$X^{-1}(\\{a\\}) \\in \\mathcal{A},\\ X^{-1}(K)={w \\in \\Omega:X(w) \\in K} $$ \n",
    "   \n",
    "#### 3. $\\forall a \\in \\mathbb{R}$  \n",
    "$$X^{-1}((a, \\infty)) \\in \\mathcal{A}$$ \n",
    "$$E=X^{-1}((a, \\infty)) \\in \\mathcal{A}$$  \n",
    "$$X(E)=(a,\\infty)\\cap X(\\Omega)$$  \n",
    "   \n",
    "\n"
   ]
  },
  {
   "cell_type": "markdown",
   "metadata": {},
   "source": [
    "## Measure space"
   ]
  },
  {
   "cell_type": "markdown",
   "metadata": {
    "collapsed": true
   },
   "source": [
    "$(Y, \\mathcal{A}, m)$  \n",
    "    $ Y : \\mathbb{R}^{n}=\\{ (a_{1}, a_{2}, ... a_{n}) : a_{i} \\in \\mathbb{R}, i=1, 2, ..., n\\}$  \n",
    "    $ \\mathcal{A} : \\sigma$-algebra on $Y$  \n",
    "    $ m :$ measure. $\\mathcal{A}\\rightarrow [0, \\infty]$\n",
    "\n",
    "### Measure\n",
    "<ul>\n",
    "1. m($\\emptyset$)=0  \n",
    "2. $\\{A_1, ..., A_n\\}. A_i \\in \\mathcal{A}$  \n",
    "   $$ A_i \\cap A_j = \\emptyset \\space if  \\space i\\neq j $$\n",
    "   $$ m(\\cup_{n=1}^{\\infty} A_n) = \\sum_{n=1}^{infty}m(A_n) $$  \n",
    "   \n",
    "cf. Probability measure also has $m(\\Omega)=1$ condition \n",
    "$\\Rightarrow$ Probability measure $\\subset$ measure  \n",
    "cf. Lebesque measure theory :$ m[(a, b)] = b-a$\n",
    "</ul>\n",
    "\n",
    "### A measurable function  \n",
    "<ul>\n",
    "$f : Y \\rightarrow \\mathbb{R}$  \n",
    "$\\forall a \\in \\mathbb{R},    f^{-1}((a, \\infty)) \\in \\mathcal{A}$  \n",
    "$\\Rightarrow X$는 $f$ (random variable is a measurable function\n",
    "</ul>"
   ]
  },
  {
   "cell_type": "markdown",
   "metadata": {},
   "source": [
    "## Expectation"
   ]
  },
  {
   "cell_type": "markdown",
   "metadata": {},
   "source": [
    "$(\\Omega, \\mathcal{A}, P)$ : a probability space  \n",
    "$X:\\Omega \\rightarrow \\mathbb{R}$ : a random variable  \n",
    "$$E[X] = X_1P_1+X_2P_2+ ... + X_nP_n = X_1P(A_1) + X_2P(A_2) + ... + X_nP(A_n)$$\n",
    "$$cf. (R, B, m) : \\int f(x) dx = a_1\\Delta x_1+ ... + a_n\\Delta x_n = a_1m(A_1) + ... + a_nm(A_n)$$  \n",
    "  \n",
    "### $\\bullet$ Definition  \n",
    "\n",
    "#### 1)  $f$ : simple function  \n",
    "<ul>\n",
    "$$f = \\sum_{i=1}^{n}a_{i}\\chi_{A_i},$$\n",
    "$$\\chi_{A}(X) = 1 (X \\in A), 0(X \\notin A)$$\n",
    "$$\\int f dm \\equiv \\Sigma_{i=1}^{n}a_i m(A_i)$$  \n",
    "ex1) A=Q (유리수) \n",
    "     <ul>\n",
    "     f = $\\chi_A$  \n",
    "     $\\int f=1 * m(A) = 0$  \n",
    "     </ul>\n",
    "</ul>     \n",
    "       \n",
    "#### 2)  $f : \\mathbb{R} \\rightarrow \\mathbb{R}^{+}$ 인 measurable function  \n",
    "<ul>\n",
    "g : a simple function, $g\\leq f$  \n",
    "$$\\int f \\equiv sup_{g \\leq f} \\int g$$  \n",
    "**** Random variable  \n",
    "$$X\\leq0, g=\\Sigma_{i=1}^{n}a_i\\chi_{A_i} g\\leq X$$  \n",
    "$$\\int X dp = E[X] \\equiv sup_{g\\leq X}E[g]$$  \n",
    "</ul>  \n",
    "  \n",
    "  \n",
    "#### 3)  $f : \\mathbb{R} \\rightarrow \\mathbb{R}$ \n",
    "<ul>\n",
    "$$f=f^{+}-f^{-} (f^{+} = max(f, 0), f^{-} = max(-f,0)$$  \n",
    "$$f : integrable \\Leftrightarrow \\int f^{-1} dm < \\infty$$  \n",
    "$$\\int f dm = \\int f^{+} dm - \\int f^{-} dm$$  \n",
    "**** Random variable  \n",
    "$$X=X^{+}-X^{-}$$  \n",
    "Only when $E[X^{-}] < \\infty$ \n",
    "$$E[X]=E[X^{+}]-E[X^{-}]$$  \n",
    "</ul>  "
   ]
  },
  {
   "cell_type": "markdown",
   "metadata": {},
   "source": [
    "## Important Theorem "
   ]
  },
  {
   "cell_type": "markdown",
   "metadata": {},
   "source": [
    "\n",
    "#### 1. Monotone Convergence theorem (MCT)  \n",
    "<ul>\n",
    "$$f_n : \\Omega \\rightarrow \\mathbb{R}, \\{f_n\\}_{n=1}^{\\infty},  f_1 \\leq f_2 \\leq ... \\leq f_n$$\n",
    "$$\\Rightarrow \\lim \\int f_n dm = \\int \\lim f_n dm$$  \n",
    "** $$\\lim E[f_n] = E[\\lim f_n]$$  \n",
    "</ul>  \n",
    "\n",
    "#### 2. Dominated Convergence Theorem (DCT)  \n",
    "<ul>\n",
    "$$f_n : \\Omega \\rightarrow \\mathbb{R}, g : \\Omega \\rightarrow \\mathbb{R}$$  \n",
    "$$|f_n|<g, \\int g dm < \\infty$$  \n",
    "$$\\Rightarrow \\lim \\int f_n dm = \\int \\lim f_n dm$$  \n",
    "** $$E[g]<\\infty, \\lim E[f_n] = E[\\lim f_n]$$  \n",
    "</ul>  \n",
    "  \n",
    "#### 3. Fatou's Lemma  \n",
    "<ul>\n",
    "$$f_n : \\Omega \\rightarrow \\mathbb{R}$$  \n",
    "$$\\int \\lim inf (f_n) dm \\leq \\lim inf (\\inf f_n) dm$$  \n",
    "** $$E[\\lim inf (f_n)] \\leq \\lim inf (E[f_n])$$  \n",
    "</ul>  "
   ]
  },
  {
   "cell_type": "markdown",
   "metadata": {},
   "source": [
    "## Differentiation"
   ]
  },
  {
   "cell_type": "markdown",
   "metadata": {},
   "source": [
    "$f:\\mathbb{R} \\rightarrow \\mathbb{R}$ measurable, monotone increasing  \n",
    "We can define a measure $\\mu_f$ on $\\mathbb{R}$,  $\\mu_f((a,b))=f(b)-f(a)$  \n",
    "$$\\int g d\\mu_f = \\int g df = \\int gf' dm$$\n",
    "\n",
    "\n",
    "$f$ : absolutely continuous  \n",
    "( $\\forall A$ : measurable set, $m(A)=0 \\Rightarrow \\mu_f(A) = 0$ ) \n",
    "\n",
    "\n",
    "#### Theorem  \n",
    "<ul>\n",
    "If $f$ is absolutely continuous and $\\exists g : \\mathbb{R} \\rightarrow \\mathbb{R}$,  \n",
    "$$f(b)-f(a) = \\int^{b}_{a}g dm = \\int g \\chi[a,b] dm $$  \n",
    "$$ g = f'$$  \n",
    "cf. f : monotone continuous  \n",
    "$$f = f_1 + f_2 $$  \n",
    "$f_1$ : absolutely continuous, $f_2$ : singular  \n",
    "\n",
    "\n",
    "** Random variable  \n",
    "$(\\Omega, \\mathcal{A}, P), (\\Omega, \\mathcal{A}, Q)$  \n",
    "Q is absolutely continuous with respect to P $  \\Leftrightarrow \\forall E \\in \\mathcal{A}, P(E)=0 \\Rightarrow Q(E)=0$\n",
    "notation : $Q \\ll P$  \n",
    "</ul>\n",
    "\n",
    "####  Radon - Nikodym  Theorem \n",
    "<ul>\n",
    "If $Q \\ll P$ and $\\exists g : \\Omega \\rightarrow \\mathbb{R}^{+}$,  \n",
    "$$E^Q[X] = E^P[gX] ( \\int X dQ=\\int Xg dP ) $$  \n",
    "$$g = \\frac{dQ}{dP}$$  \n",
    "cf. $Q \\ll P$ and $P \\ll Q \\Leftrightarrow P ~ Q$ (equivalent)\n",
    "</ul>"
   ]
  }
 ],
 "metadata": {
  "kernelspec": {
   "display_name": "Python 2",
   "language": "python",
   "name": "python2"
  },
  "language_info": {
   "codemirror_mode": {
    "name": "ipython",
    "version": 2
   },
   "file_extension": ".py",
   "mimetype": "text/x-python",
   "name": "python",
   "nbconvert_exporter": "python",
   "pygments_lexer": "ipython2",
   "version": "2.7.13"
  }
 },
 "nbformat": 4,
 "nbformat_minor": 2
}
