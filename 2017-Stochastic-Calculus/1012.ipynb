{
 "cells": [
  {
   "cell_type": "markdown",
   "metadata": {},
   "source": [
    "2017.10.12 - Seokjin Yoon"
   ]
  },
  {
   "cell_type": "markdown",
   "metadata": {},
   "source": [
    "### Review :"
   ]
  },
  {
   "cell_type": "markdown",
   "metadata": {},
   "source": [
    "$dX_{t}=(\\alpha+\\frac{1}{2}\\theta^{2})X_{t}dt+\\theta X_{t}dB_{t} \\rightarrow$ geometric brownian motion"
   ]
  },
  {
   "cell_type": "markdown",
   "metadata": {
    "collapsed": true
   },
   "source": [
    "$df(B_{t},t)=[\\frac{\\partial f}{\\partial t}+\\frac{1}{2}\\frac{\\partial^2 f}{\\partial x^2}]dt+\\frac{\\partial f}{\\partial x}dB_{t}$ ,          $\\frac{1}{2}\\frac{\\partial^2 f}{\\partial x^2}$ is a risk-adjustment term.  \n",
    "\n",
    "↔ $\\;f(B_{t},t)=f(B_{0},0)+\\int_{0}^{t}(\\frac{\\partial f}{\\partial x}+\\frac{1}{2}\\frac{\\partial^2 f}{\\partial x^2})ds+\\int_{0}^{t}\\frac{\\partial f}{\\partial x}dB_{s}$"
   ]
  },
  {
   "cell_type": "markdown",
   "metadata": {},
   "source": [
    "### Example 1 of Ito's lemma   \n",
    "$y_{t}=t\\cos B_{t}$ , $dy_{t}=?$     \n",
    "  \n",
    "sol)   \n",
    "$f(t,x)=t\\cos x$  \n",
    "\n",
    "$\\gg \\frac{\\partial f}{\\partial t}=\\cos x, \\frac{\\partial f}{\\partial x}=-t\\sin x,\\frac{\\partial^2 f}{\\partial x^2}=-t\\cos x$  \n",
    "\n",
    "$dy_{t}=(\\cos B_{t}-\\frac{1}{2}\\cos B_{t})dt-t\\sin B_{t}dB_{t}=(1-\\frac{1}{2}t)B_{t}dt-t\\sin B_{t}dB_{t}$\n"
   ]
  },
  {
   "cell_type": "markdown",
   "metadata": {},
   "source": [
    "### Heuristic Deviation\n",
    " \n",
    "$$df(b_{t},t)\\approx f(B_{t+dt},t+dt)-f(B_{t},t)$$"
   ]
  },
  {
   "cell_type": "markdown",
   "metadata": {},
   "source": [
    "Taylor series for 2 variables :\n",
    "\n",
    "$f(x+h,y+k)= f(x,y)+\\frac{\\partial f}{\\partial x}h+\\frac{\\partial f}{\\partial y}k+\\frac{1}{2}\\frac{\\partial^2 f}{\\partial x^2}h^{2}+\\frac{\\partial^2 f}{\\partial x \\partial y}hk +\\frac{1}{2}\\frac{\\partial^2 f}{\\partial y^2}k^{2}$ + higher order terms  \n",
    "\n",
    "$df(B_{t},t)\\approx\\frac{\\partial f}{\\partial x}dB_{t}+\\frac{\\partial f}{\\partial t}dt+\\frac{1}{2}\\frac{\\partial^2 f}{\\partial x^2}dB_{t}^{2}+\\frac{\\partial^2 }{\\partial x\\partial t}dB_{t}dt+\\frac{1}{2}\\frac{\\partial^2 f}{\\partial t^2}dt^{2}$ + higher order terms  \n",
    "\n",
    "$\\gg dB_{t}^{2}=dt,dB_{t}dt=0,dt^{2}=0$  \n",
    "\n",
    "$$\\therefore =[\\frac{\\partial f}{\\partial t}+\\frac{1}{2}\\frac{\\partial^2 f}{\\partial x^2}]dt+\\frac{\\partial f}{\\partial x}dB_{t}$$"
   ]
  },
  {
   "cell_type": "markdown",
   "metadata": {},
   "source": [
    "## General Ito integral\n",
    "\n",
    "$X_{t}=X_{0}+\\int_{0}^{t}b_{s}dB_{s}+\\int_{0}^{t}a_{s}ds$ : Ito process  \n",
    "\n",
    "↔ $dX_{t}=a_{t}dt+b_{t}dB_{t}$  \n",
    "\n",
    "$A_{t},B_{t}$: F -adapted  \n",
    "\n",
    "$$\\int_{0}^{t}y_{t}dX_{t}=\\lim_{\\left \\| \\Delta t\\rightarrow 0 \\right \\|}y_{t0}(X_{t1}-X_{t0})+y_{t1}(X_{t2}-X_{t1})+...+y_{t(n-1)}(X_{tn}-X_{t(n-1)})$$"
   ]
  },
  {
   "cell_type": "markdown",
   "metadata": {
    "collapsed": true
   },
   "source": [
    "### Ito's lemma \n",
    " \n",
    "$$df(X_{1t},X_{2t}...X_{nt},t)=\\frac{\\partial f}{\\partial X}dt+\\frac{1}{2}\\sum_{i,j=1}^{n}\\frac{\\partial^2 f}{\\partial X_{i}\\partial X_{j}}<dX_{it}dX_{jt}>+\\sum_{i=1}^{n}\\frac{\\partial f}{\\partial X_{i}}dX_{it}$$  \n",
    "  \n",
    "* $\\;dX_{nt}=\\mu _{n}dt+\\sigma_{n1,t}dB_{nt}+...+\\sigma _{nm,t}dB_{mt} $  \n",
    "\n",
    "* $ <dX_{it}dX_{jt}>$ : quadratic covariation  \n",
    "\n",
    "$\\sigma_{i1,t}dB_{1t}+...+\\sigma _{im,t}dB_{mt}\\rightarrow (1)$  \n",
    "\n",
    "$\\sigma_{j1,t}dB_{1t}+...+\\sigma _{jm,t}dB_{mt}\\rightarrow (2)$  \n",
    "\n",
    "$<dX_{it}dX_{jt}>\\,=cov((1),(2))=\\sum_{k=1}^{m}\\sigma _{ik,t}\\sigma_{jk,t}cov(dB_{k,t},dB_{k,t})=\\sum_{k=1}^{m}\\sigma _{ik,t}\\sigma _{jk,t}dt$\n",
    "   \n",
    "\n"
   ]
  },
  {
   "cell_type": "markdown",
   "metadata": {},
   "source": [
    "### Example 2 of Ito's lemma  \n",
    "\n",
    "$dX_{t}=\\mu _{x}X_{t}dt+\\sigma_{x}X_{t}dB_{t}$  \n",
    "\n",
    "$dY_{t}=\\mu _{y}Y_{t}dt+\\sigma_{y}Y_{t}dB_{t}$  \n",
    "\n",
    "$d(X_{t}Y_{t})=?$  \n",
    "\n",
    "sol)  \n",
    "$f(X_{t},Y_{t},t) = X_{t}Y_{t}$  \n",
    "\n",
    "$df(X_{t},Y_{t},t)=\\frac{\\partial f}{\\partial t}dt+\\frac{1}{2}\\frac{\\partial^2 f}{\\partial X^2}<dX_{t},dX_{t}>+\\frac{\\partial^2 f}{\\partial X \\partial Y}<dX_{t},dY_{t}>+\\frac{1}{2}\\frac{\\partial^2 f}{\\partial Y^2}<dY_{t},dY_{t}>+\\frac{\\partial f}{\\partial X_{t}}dX_{t}+\\frac{\\partial f}{\\partial Y}dY_{t}$  \n",
    "  \n",
    "$\\gg \\frac{\\partial f}{\\partial t}=0,\\;\\frac{\\partial f}{\\partial X_{t}}=Y_{t},\\;\\frac{\\partial f}{\\partial Y_{t}}=X_{t},\\;\\frac{\\partial^2 f}{\\partial X_{t}^2}=0,\\;\\frac{\\partial^2 f}{\\partial X_{t} \\partial Y_{t}}=1$  \n",
    "  \n",
    "$\\therefore \\;df(X_{t},Y_{t},t)=<dX_{t},dY_{t}>+Y_{t}dX_{t}+X_{t}dY_{t}$  \n",
    "\n",
    "$=\\sigma_{X}\\sigma_{Y}X_{t}Y_{t}dt+Y_{t}dX_{t}+X_{t}dY_{t}$  \n",
    "  \n",
    "* $cov(\\alpha X+\\beta Y,\\gamma X+\\delta Y)=\\alpha \\gamma cov(X,X)+\\alpha \\delta cov(X,Y)+\\beta \\gamma  cov(Y,X)+\\beta \\delta cov(Y,Y)$"
   ]
  },
  {
   "cell_type": "markdown",
   "metadata": {},
   "source": [
    "## The Black Scholes Model (1973)"
   ]
  },
  {
   "cell_type": "markdown",
   "metadata": {},
   "source": [
    "* Two assets, time=(t,t+dt)\n",
    "\n",
    "Risk free :$\\frac{dP_{0}(t)}{P_{0}(t)}=rdt$  \n",
    "\n",
    "Risky asset : $\\frac{dS_{t}}{S_{t}}=\\mu dt+\\sigma dB_{t}\\;(\\mu >r,\\sigma >0, \\mu,\\sigma :constant)$  \n",
    "\n",
    "$S_{t}=S_{0}\\exp (\\mu-\\frac{1}{2}\\sigma^{2})t+\\sigma B_{t}$"
   ]
  },
  {
   "cell_type": "markdown",
   "metadata": {},
   "source": [
    "* A European Option on $S_{t}$ \n",
    "\n",
    "$call=(S_{t}-k)^{+}$  \n",
    "\n",
    "$put=(k-S_{t})^{+}$  \n",
    "\n",
    "$A^{+}=max(A,0)$  \n",
    "\n",
    "$V(S_{t},t)$ : the price of the option at 't'"
   ]
  },
  {
   "cell_type": "markdown",
   "metadata": {},
   "source": [
    "#### Ito lemma on 'V' :  \n",
    " \n",
    "$dV=\\frac{\\partial V}{\\partial t}dt+\\frac{1}{2}\\frac{\\partial^2 V}{\\partial S^2}<dS_{t},dS_{t}>+\\frac{\\partial V}{\\partial S}dS_{t}$  \n",
    "\n",
    "$=(\\frac{\\partial V}{\\partial t}+\\frac{1}{2}\\sigma ^{2}S_{t}^{2}\\frac{\\partial^2 V}{\\partial S^2})dt+\\frac{\\partial V}{\\partial S}(\\mu S_{t}dt+\\sigma S_{t}dB_{t})$  \n",
    "\n",
    "$=(\\frac{\\partial V}{\\partial t}+\\mu S_{t}\\frac{\\partial V}{\\partial S}+\\frac{1}{2}\\sigma ^{2}S_{t}^{2}\\frac{\\partial^2 V}{\\partial S^2})dt+\\sigma S_{t}dB_{t}$  "
   ]
  },
  {
   "cell_type": "markdown",
   "metadata": {},
   "source": [
    "#### Construct a Portfolio at 't' (t,t+dt):  \n",
    " \n",
    "$-\\frac{\\partial V}{\\partial S}$ : number of shares of the risky assets(short sell)\n",
    "\n",
    "$\\pi _{t}=V(S_{t},t)-\\frac{\\partial V}{\\partial S}S_{t}$  \n",
    "\n",
    "$d\\pi_{t}=dV-\\frac{\\partial V}{\\partial S}dS_{t}$  \n",
    "\n",
    "$=(\\frac{\\partial V}{\\partial t}+\\mu S_{t}\\frac{\\partial V}{\\partial S}+\\frac{1}{2}\\sigma ^{2}S_{t}^{2}\\frac{\\partial^2 V}{\\partial   S^2})dt+\\sigma S_{t}\\frac{\\partial V}{\\partial S}dB_{t}-\\frac{\\partial V}{\\partial S}dS_{t}$  \n",
    "\n",
    "$=(\\frac{\\partial V}{\\partial t}+\\frac{1}{2}\\sigma ^{2}S_{t}^{2}\\frac{\\partial^2 V}{\\partial S^2})dt+\\mu S_{t}\\frac{\\partial V}{\\partial S}dt+\\sigma S_{t}\\frac{\\partial V}{\\partial S}dB_{t}-\\frac{\\partial V}{\\partial S}dS_{t}$  \n",
    "\n",
    "$=(\\frac{\\partial V}{\\partial t}+\\frac{1}{2}\\sigma ^{2}S_{t}^{2}\\frac{\\partial^2 V}{\\partial S^2})dt$  \n",
    "\n",
    "* $(\\mu S_{t}\\frac{\\partial V}{\\partial S}dt+\\sigma S_{t}\\frac{\\partial V}{\\partial S}dB_{t}-\\frac{\\partial V}{\\partial S}dS_{t})$  \n",
    "\n",
    "$=\\frac{\\partial V}{\\partial S}(\\mu S_{t}dt+\\sigma S_{t}dB_{t}-dS_{t})$  \n",
    "\n",
    "$=0$"
   ]
  },
  {
   "cell_type": "markdown",
   "metadata": {},
   "source": [
    "#### Absence of Arbitrage :  \n",
    " \n",
    "$d\\pi_{t}=(\\frac{\\partial V}{\\partial t}+\\frac{1}{2}\\sigma ^{2}S_{t}^{2}\\frac{\\partial^2 V}{\\partial S^2})dt=r\\pi_{t}dt=r(V-S\\frac{\\partial V}{\\partial S})dt$  \n",
    "\n",
    "$$\\therefore \\; \\frac{\\partial V}{\\partial t}+rS\\frac{\\partial V}{\\partial S}+\\frac{1}{2}\\sigma^2S^{2}\\frac{\\partial^2 V}{\\partial S^2}-rV=0$$ \n",
    "  \n",
    "$\\gg \\;$The Black Scholes PDE"
   ]
  },
  {
   "cell_type": "code",
   "execution_count": null,
   "metadata": {
    "collapsed": true
   },
   "outputs": [],
   "source": []
  }
 ],
 "metadata": {
  "kernelspec": {
   "display_name": "Python 2",
   "language": "python",
   "name": "python2"
  },
  "language_info": {
   "codemirror_mode": {
    "name": "ipython",
    "version": 2
   },
   "file_extension": ".py",
   "mimetype": "text/x-python",
   "name": "python",
   "nbconvert_exporter": "python",
   "pygments_lexer": "ipython2",
   "version": "2.7.13"
  }
 },
 "nbformat": 4,
 "nbformat_minor": 2
}
