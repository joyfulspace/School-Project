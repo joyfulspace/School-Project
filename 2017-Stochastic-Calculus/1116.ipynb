{
 "cells": [
  {
   "cell_type": "markdown",
   "metadata": {},
   "source": [
    "2017.11.16 Stochastic Calculus - Kyuheong Lee"
   ]
  },
  {
   "cell_type": "markdown",
   "metadata": {},
   "source": [
    "# The Merton Model(1969)\n",
    "\n",
    "$\\mathbf{Objective\\,function}$\n",
    "\n",
    "$ E[\\int_{0}^{T}e^{-\\delta t}U(C_{t})dt+e^{-\\delta T}B(W_{T})]$ : It is more general form than the one in paper\n",
    "\n",
    "$U$ : Period utility function or felicity function(Concave) $\\rightarrow$ time seperable additive utility function\n",
    "\n",
    "$B$ : Bequest function\n",
    "\n",
    "$T$ : Time of death or final time\n",
    "\n",
    "$\\delta$ : subjective discount rate (미래가 중요하다 여기면 $\\delta$가 커지고 반대의 경우 작아짐, $\\delta>0$)\n"
   ]
  },
  {
   "cell_type": "markdown",
   "metadata": {},
   "source": [
    "$\\mathbf{Simplified\\,version}$\n",
    "\n",
    "Bond : $\\frac{dP_{0}(t)}{P_{0}(t)}=rdt,r>0\\qquad\\quad            \\Pi_{t}$ : dollar investment in risky asset\n",
    "\n",
    "Stock : $\\frac{dP_{1}(t)}{P_{1}(t)}=\\mu dt+\\sigma dB_{t}\\qquad\\;\\,  \\omega_{t}=\\frac{\\Pi_{t}}{W_{t}}$\n",
    "\n",
    "Problem : Select $\\left \\{ (C_{t})_{t=0}^{T},(\\Pi_{t})_{t=0}^{T},W_{T} \\right \\}$\n",
    "\n",
    "to maximize the objective function with given initial wealth $W>0$ (Assume no labor income)\n"
   ]
  },
  {
   "cell_type": "markdown",
   "metadata": {},
   "source": [
    "$\\mathbf{Wealth\\,evolution\\,equation\\,:\\,discrete\\,time\\,\\rightarrow\\,continuous\\,time}$\n",
    "\n",
    "$dW_{t}=(rW_{t}-C_{t}+(\\mu-r)\\Pi_{t})dt+\\sigma\\Pi_{t}dB_{t}$\n",
    "\n",
    "${<Objective\\,function\\,change\\,(\\because\\,time-consistent)>}$\n",
    "\n",
    "$J(t,W_{t})\\,=\\,\\max_{[C_{t}\\,,\\Pi_{t}\\,,W_{T}]}\\,E[\\int_{t}^{T}e^{-\\delta(s-t)}U(C_{s})ds+e^{-\\delta(T-t)}B(W_{T})]$\n",
    "\n",
    "$\\qquad\\quad=\\,\\max\\,E[\\int_{t}^{t+\\Delta t}e^{-\\delta(s-t)}U(C_{s})ds+e^{-\\delta \\Delta t}[\\int_{t+\\Delta t}^{T}e^{-\\delta(s-(t+\\Delta t))}U(C_{s})ds+e^{-\\delta(T-(t+\\Delta t)}B(W_{T})]]$"
   ]
  },
  {
   "cell_type": "markdown",
   "metadata": {},
   "source": [
    "$\\mathbf{Dynamic\\,Programming\\,Principle}$\n",
    "\n",
    "$J(t+\\Delta t\\,,\\,W_{t+\\Delta t})=\\max_{[(C_{t})_{t+\\Delta t}^{T}\\,,(\\Pi_{t})_{t+\\Delta t}^{T}\\,,W_{T}]}e^{-\\delta \\Delta t}E[\\int_{t+\\Delta t}^{T}e^{-\\delta(s-(t+\\Delta t)}U(C_{s})ds+e^{-\\delta(T-(t+\\Delta t))}B(W_{T})\\,|\\,\\mathcal{F}_{t+\\Delta t}]\\,\\,$  \n",
    "\n",
    "안쪽의 max를 다음과 같이 따로 계산하고 전체 max에서 남는 것 계산 \n",
    "\n",
    "i.e $\\max_{[C_{t}\\,,\\,\\Pi_{t}\\,,\\,W_{T}]}$ changes to $\\max_{[(C_{t})_{t}^{t+\\Delta t}\\,,\\,(\\Pi_{t})_{t}^{t+\\Delta t}]}$\n",
    "\n",
    "$J(t,W_{t})=\\max_{[(C_{t})_{s=t}^{t+\\Delta t}\\,,\\,(\\Pi_{t})_{s=t}^{t+\\Delta t]}}\\,E[\\int_{t}^{t+\\Delta t}U(s)ds+e^{-\\delta \\Delta t}J(t+\\Delta t,W_{t+\\Delta t})]$\n",
    "\n",
    "$0=\\max\\,E[\\int_{t}^{t+\\Delta t}U(s)ds+e^{-\\delta \\Delta t}J(t+\\Delta t,W_{t+\\Delta t})]-J(t,W_{t})$  ......*\n",
    "\n",
    "$\\lim_{\\Delta t\\to 0}\\max\\,E[\\frac{\\int_{t}^{t+\\Delta t}U(s)ds+e^{-\\delta \\Delta t}J(t+\\Delta t\\,,W_{t+\\Delta t})-J(t,W_{t})}{\\Delta t}]$  ......**\n",
    "\n",
    "cf) $\\int_{a}^{a+\\Delta t}f(x)dx\\approx \\frac{f(a)+f(a+\\Delta t)}{2}\\Delta t\\;,e^{-\\delta\\Delta t}\\approx 1-\\delta \\Delta t$\n",
    "\n",
    "then ** is decomposed to 3 parts \n",
    "\n",
    "1 :  $\\frac{[U(C_{t})+U(C_{t+\\Delta t})]\\Delta t}{2\\Delta t}\\rightarrow\\,U(C_{t})$\n",
    "\n",
    "\n",
    "2 :  $E[\\frac{J(t+\\Delta t\\,,\\,W_{t+\\Delta t})-J(t,W_{t})}{\\Delta t}]\\rightarrow\\,\\frac{E[dJ]}{dt}$\n",
    "\n",
    "\n",
    "3 :  $E[-\\delta J(t+\\Delta t\\,,\\,W_{t+\\Delta t})]\\rightarrow\\,-\\delta J(t,W_{t})$\n",
    "\n",
    "Finally, * changes to\n",
    "\n",
    "$0=\\max_{[C_{t}\\,,\\,\\Pi_{t}]}[U(C_{t})+\\frac{E[dJ]}{dt}-\\delta J]$ ...eq(1)"
   ]
  },
  {
   "cell_type": "markdown",
   "metadata": {},
   "source": [
    "$\\mathbf{Use\\,Ito's\\,Lemma\\,to\\,derive\\,Hamilton-Jacobi-Bellman(HJB)\\,equation\\,form}$\n",
    "\n",
    "$dJ(t,W_{t})=\\frac{\\partial J}{\\partial t}dt+\\frac{1}{2}\\frac{\\partial^2 J}{\\partial W^2}<dW_{t}\\,,dW_{t}>+\\frac{\\partial J}{\\partial W_{t}}dW_{t}$\n",
    "\n",
    "$dW_{t}=(rW_{t}-C_{t}+(\\mu-r)\\Pi_{t})dt+\\sigma\\Pi_{t}dB_{t}\\quad <dW_{t}\\,,\\,dW_{t}>=\\sigma^2\\Pi_{t}^2dt$\n",
    "\n",
    "$E[dJ]=\\frac{\\partial J}{\\partial t}dt+\\frac{1}{2}\\frac{\\partial^2 J}{\\partial W^2}\\sigma^2\\Pi_{t}^2dt+\\frac{\\partial J}{\\partial W_{t}}(rW_{t}-C_{t}+(\\mu-r)\\Pi_{t})dt$\n",
    "\n",
    "$\\therefore \\;,\\,eq(1)\\,changes\\,to$\n",
    "\n",
    "$0=\\max_{[C_{t\\,,\\,W_{t}}]}[U(C_{t})+\\frac{\\partial J}{\\partial t}+\\frac{1}{2}\\frac{\\partial^2 J}{\\partial W^2}\\sigma^2\\Pi_{t}^2+\\frac{\\partial J}{\\partial W_{t}}(rW_{t}-C_{t}+(\\mu-r)\\Pi_{t})-\\delta J]\\rightarrow\\,HJB\\,equation$"
   ]
  },
  {
   "cell_type": "markdown",
   "metadata": {},
   "source": [
    "$\\mathbf{First\\,order\\,condition\\,for\\,[C_{t}\\,,\\,W_{t}]}$\n",
    "\n",
    "$C_{t}\\;:\\;{U}'(C_{t})-\\frac{\\partial J}{\\partial W}=0\\quad\\therefore\\,C_{t}=({U}'^{-1})(\\frac{\\partial J}{\\partial W})=I(\\frac{\\partial J}{\\partial W})\\quad\\,i.e\\;I\\,\\equiv\\,({U}')^{-1}$\n",
    "\n",
    "$\\Pi_{t}\\,:\\,\\frac{\\partial^2 J}{\\partial W^2}\\sigma^2Pi_{t}=-\\frac{\\partial J}{\\partial W}(\\mu-r)\\quad\\therefore\\;Pi_{t}=-\\frac{\\mu-r}{\\sigma^2}\\frac{\\frac{\\partial J}{\\partial W}}{\\frac{\\partial^2 J}{\\partial W^2}}$\n",
    "\n",
    "let's define $\\frac{\\partial J}{\\partial W}\\equiv J_{W}\\,,\\,\\frac{\\partial^2 J}{\\partial W^2}\\equiv J_{WW}\\,,\\,\\frac{\\partial J}{\\partial t}\\equiv J_{t}$\n",
    "\n",
    "then the HJB equation changes to\n",
    "\n",
    "$U(I(J_{W}))+J_{t}+\\frac{1}{2}\\sigma^2J_{WW}(-\\frac{\\mu-r}{\\sigma^2}\\frac{J_{W}}{J_{WW}})^2+J_{W}(rW-I(J_{W})+(\\mu-r)(-\\frac{\\mu-r}{\\sigma^2}\\frac{J_{W}}{J_{WW}})-\\delta J=0$\n",
    "\n",
    "$\\rightarrow\\,U(I(J_{W}))+J_{t}+J_{W}(rW-I(J_{W}))-\\frac{1}{2}(\\frac{\\mu-r}{\\sigma})^2\\frac{J_{W}^2}{J_{WW}}-\\delta J=0$...eq(2)\n",
    "\n",
    "cf)Constant Relative Risk Aversion(CRRA) utility function i.e $U(C)=\\frac{C^{1-R}}{1-R}$\n",
    "\n",
    "then $U(I(J_{W}))=U(J_{W}^{-\\frac{1}{R}})=\\frac{J_{W}^{1-\\frac{1}{R}}}{1-R}$\n",
    "\n",
    "so, eq(2) is \n",
    "\n",
    "$\\frac{J_{W}^{1-\\frac{1}{R}}}{1-R}+J_{t}+J_{W}(rW-J_{W}^{-\\frac{1}{R}})-\\frac{1}{2}(\\frac{\\mu-r}{\\sigma})^2\\frac{J_{W}^2}{J_{WW}}-\\delta J$\n",
    "\n",
    "$=J_{t}+rWJ_{W}+\\frac{R}{1-R}J_{W}^{1-\\frac{1}{R}}-\\frac{1}{2}(\\frac{\\mu-r}{\\sigma})^2\\frac{J_{W}^2}{J_{WW}}-\\delta J=0\\qquad H.W\\,:\\,Guess\\,trial\\,solution\\;J=A(t)W^{1-R}$"
   ]
  },
  {
   "cell_type": "code",
   "execution_count": null,
   "metadata": {
    "collapsed": true
   },
   "outputs": [],
   "source": []
  },
  {
   "cell_type": "code",
   "execution_count": null,
   "metadata": {
    "collapsed": true
   },
   "outputs": [],
   "source": []
  }
 ],
 "metadata": {
  "kernelspec": {
   "display_name": "Python 2",
   "language": "python",
   "name": "python2"
  },
  "language_info": {
   "codemirror_mode": {
    "name": "ipython",
    "version": 2
   },
   "file_extension": ".py",
   "mimetype": "text/x-python",
   "name": "python",
   "nbconvert_exporter": "python",
   "pygments_lexer": "ipython2",
   "version": "2.7.13"
  }
 },
 "nbformat": 4,
 "nbformat_minor": 2
}
