{
 "cells": [
  {
   "cell_type": "markdown",
   "metadata": {},
   "source": [
    "2017.11.123 Stochastic Calculus - Seongsu Kang"
   ]
  },
  {
   "cell_type": "markdown",
   "metadata": {},
   "source": [
    "## The Black-Scholes Model[Brownian motion]\n",
    "\n",
    "o Bond :$\\frac{dP_{0}(t)}{P_{0}(t)}=rdt\\qquad\\;\\,    dP_{0}=1$\n",
    "\n",
    "o Stock :$\\frac{dP_{1}(t)}{P_{1}(t)}=\\mu dt+\\sigma dB_{t}\\qquad\\;\\,  dP_{1}=S$\n",
    "\n",
    "o Wealth equation in discrete time :\n",
    "\n",
    "$dW_{t}=(rW_{t}-C_{t}+(\\mu-r)\\Pi_{t})dt+\\sigma\\Pi_{t}dB_{t}$\n",
    "\n",
    "=>Assumtion < To make this equation deal with Call option>\n",
    "\n",
    "-$\\Pi_{t}=\\Delta_{t} S_{t}$\n",
    "\n",
    "-$W_{0}=C$ (Initial value of Call)\n",
    "\n",
    "-$C_{t}=0$ (No-division)\n",
    "\n",
    "-Self-financing : To invest money only at frist time(= To invest only Option-premium)\n",
    "\n",
    "-At time T, we get $W_{T}$\n",
    "\n",
    "-$W_{T}=(K-S_{T})^{+}$\n",
    "\n",
    "-$ (C_{t})_{t=0}^{T} \\ is\\  F-adqpted $\n",
    "\n"
   ]
  },
  {
   "cell_type": "markdown",
   "metadata": {},
   "source": [
    "### If we solve the equation, how the $W_{0}$ would be?\n",
    "\n",
    "O $\\mathbf{Case1\\,Riskfree\\,asset}$ (= no-Brownian motion)\n",
    "\n",
    "$dW_{t}=(rW_{t}-C_{t}+(\\mu-r)\\Pi_{t})dt$\n",
    "\n",
    "->$\\mu (t)=e^{-rt}$\n",
    "\n",
    "$\\therefore\\, W_{0}=\\int_{0}^{T}e^{-rt}C_{t}dt + e^{-rT}W_{T}$\n",
    "\n",
    "===>Same with NPV Rule\n",
    "\n"
   ]
  },
  {
   "cell_type": "markdown",
   "metadata": {},
   "source": [
    "O $\\mathbf{Case2\\,Risky\\,asset}$\n",
    "\n",
    "$dW_{t}=(rW_{t}-C_{t}+(\\mu-r)\\Pi_{t})dt+\\sigma\\Pi_{t}dB_{t}$\n",
    "\n",
    "and we assume $H_{t}$ which follows Brownian motion\n",
    "\n",
    "$dH_{t}=h_{1}(t)dt+h_{2}(t)dB_{t}$\n",
    "\n",
    "we can use Ito lemma to $df(H(t),W(t))$\n",
    "\n",
    "then \n",
    "\n",
    "$\\int_{0}^{T}df(H_{t},W_{t})=-\\int_{0}^{T}H_{t}C_{t}dt+\\int_{0}^{T}(h_{2}(t)W_{t}+\\sigma H_{t}\\pi_{t})dB_{t}$\n",
    "\n",
    "$E[H_{T}W_{t}-W{0}]=-E[\\int_{0}^{T}H_{t}C_{t}dt] (\\because E(B_{t})=0)$\n",
    "\n",
    "$\\therefore W_{0}=E[\\int_{0}^{T}H_{t}C_{t}dt+H_{T}W_{T}]$\n",
    "\n",
    "=> We can think $H_{t}$ as a discount factor and it is called $'Stochastic\\, discount\\, factor'$\n"
   ]
  },
  {
   "cell_type": "code",
   "execution_count": null,
   "metadata": {
    "collapsed": true
   },
   "outputs": [],
   "source": []
  }
 ],
 "metadata": {
  "kernelspec": {
   "display_name": "Python 2",
   "language": "python",
   "name": "python2"
  },
  "language_info": {
   "codemirror_mode": {
    "name": "ipython",
    "version": 2
   },
   "file_extension": ".py",
   "mimetype": "text/x-python",
   "name": "python",
   "nbconvert_exporter": "python",
   "pygments_lexer": "ipython2",
   "version": "2.7.13"
  }
 },
 "nbformat": 4,
 "nbformat_minor": 2
}
