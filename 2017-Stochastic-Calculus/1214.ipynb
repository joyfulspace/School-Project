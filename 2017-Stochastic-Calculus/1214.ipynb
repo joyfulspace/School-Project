{
 "cells": [
  {
   "cell_type": "markdown",
   "metadata": {},
   "source": [
    "2017.12.14. Stochastic Calculus -Wuyoung Jeong"
   ]
  },
  {
   "cell_type": "markdown",
   "metadata": {},
   "source": [
    "Review"
   ]
  },
  {
   "cell_type": "markdown",
   "metadata": {},
   "source": [
    "## Term Structure of Interest Rate  \n",
    "$P(t,T)=E[e^-\\int^{T}_{t}r_sds]$"
   ]
  },
  {
   "cell_type": "markdown",
   "metadata": {},
   "source": [
    "### 1.The Markovian Models  \n",
    "$r_t=R(t,X_t)$  \n",
    "$X_t={(X_{1,t},X_{2,t},...,X_{N,t})}'$, N-factors model(There are N factors changing interest rate)"
   ]
  },
  {
   "cell_type": "markdown",
   "metadata": {},
   "source": [
    "#### 1) The Vasicek Model  \n",
    "$dr_t=k(\\bar{r}-r_t)dt+\\sigma dBt$  \n",
    "The Hull-White  \n",
    "$dr_t=(\\theta(t)-kr_t)d_t+\\sigma(t)dB_t$"
   ]
  },
  {
   "cell_type": "markdown",
   "metadata": {},
   "source": [
    "#### 2) CIR  \n",
    "$dr_t=k(\\bar{r}-r_t)d_t+\\sigma\\sqrt{r_t}dt+dB_t$  \n",
    "$\\Rightarrow k(\\bar{r}-r_t)d_t+\\sigma r^{\\alpha}_{0} dt+dB_t, 0<\\alpha<1$ "
   ]
  },
  {
   "cell_type": "markdown",
   "metadata": {},
   "source": [
    "### 2.Non-Markovian Models  \n",
    "When we can't express interest rate with finite variables  \n",
    "The Heath-Jarrow-Merton  \n",
    "Sport rate : $\\tilde{r}_{t,T}=\\frac{1}{T-t} logP(t,T)$ $\\rightarrow f_{t,T_1,T_2}$: Forwad rate  \n",
    "$f_{t,T}=\\lim_{\\Delta t \\rightarrow 0} f_{t,T,T+\\Delta t}$  \n",
    "$f_{t,T}=\\mu(t,T)dt+\\sigma_1(t,T)dB_{1,t}+...+\\sigma_N(t,T)dB_{N,t}$  \n",
    "$\\Rightarrow$ LIBOR Market Model : Modeling to implement The Heath-Jarrow-Merton in the real market  \n",
    "Structure Model(Merton, 1976)  \n",
    "Reduced Form Model : $r_{\\Delta,t}=r_t+s_t$(spread), consider a bankrupt bond  \n",
    "※Prepayment option : call about mortgage  \n",
    "$\\Rightarrow$ Using Prepayment function, calculate Prepayment risk  \n",
    "$F(Future)=Se^{(c-y)T}$, c : Cost of carry(r+u), y : convenence yield   "
   ]
  },
  {
   "cell_type": "markdown",
   "metadata": {},
   "source": [
    "## More"
   ]
  },
  {
   "cell_type": "markdown",
   "metadata": {},
   "source": [
    "### 1.Fourier Transform  \n",
    "$\\frac{1}{2}\\sigma^2 S^2 \\frac{\\partial^2C}{\\partial S^2}+rS\\frac{\\partial C}{\\partial S}-rC+\\frac{\\partial C}{\\partial t}=0$  \n",
    "$x=logS$  \n",
    "$v=e^{-r(T-t)}C$, $\\tau=T-t$  \n",
    "$\\Rightarrow \\frac{\\partial v}{\\partial t}=\\sigma^2 \\frac{\\partial^2 v}{\\partial x^2}$ : The heat equation\n",
    "$v=g(\\alpha,t)e^{i\\alpha x}$, $i^2=-1$  \n",
    "${g}'(\\alpha,t)e^{i\\alpha x}=\\sigma^2 \\frac{\\partial}{\\partial x}[g(\\alpha,t)i\\alpha e^{i\\alpha x}]=-\\sigma^2g(\\alpha,t)\\alpha^2e^{i\\alpha x}$  \n",
    "$\\Rightarrow$ ${g}'(\\alpha,t)+g(\\alpha,t)\\sigma^2\\alpha^2=0$  \n",
    "$\\frac{{g}'(\\alpha,t)}{g(\\alpha,t)}=-\\sigma^2\\alpha^2$  \n",
    "∴ $g(\\alpha,t)=e^{-\\sigma^2\\alpha^2t}$  \n",
    "$v=e^{-\\sigma^2\\alpha^2\\tau+i\\alpha x}$"
   ]
  },
  {
   "cell_type": "markdown",
   "metadata": {},
   "source": [
    "#### General solution  \n",
    "When $\\frac{1}{\\sqrt{2\\pi}}\\int^{\\infty}_{\\infty}A(\\alpha)e^{-\\sigma^2\\alpha^2\\tau+i\\alpha x}dx$ converges and there is an infinite $\\alpha$  \n",
    "How we can find ${A}'(\\alpha)\\sigma$?  \n",
    "If $\\tau=0$, $v=e^{i\\alpha x}$, and the payoff is $f(x)$  \n",
    "$\\Rightarrow \\frac{1}{\\sqrt{2\\pi}}\\int^{\\infty}_{\\infty}A(\\alpha)e^{i\\alpha x}dx=f(x)$  \n",
    "The Fourier Transform of $A(\\alpha)$  \n",
    "$e^{i\\alpha x}=cos(\\alpha x)+i sin(\\alpha x)$  \n",
    "The Fourier Inversion : $\\frac{1}{\\sqrt{2\\pi}}\\int^{\\infty}_{\\infty}f(x)e^{-i\\alpha x}dx$  \n",
    "Example : When call=$(e^x-k)^+$, it is Black-Scholes  \n",
    "$E[e^{-i\\alpha x_{T}}]$ : Characteristic function  \n",
    "$E[e^{-\\lambda X_{T}}]$ : Moment generating function  \n",
    "$\\Rightarrow$ Laplace equation"
   ]
  },
  {
   "cell_type": "markdown",
   "metadata": {},
   "source": [
    "### 2.The Heston Model(1993, RFS)  \n",
    "$\\frac{dS_t}{S_t}=rdt+\\sigma\\sqrt{\\xi_t}dB_{1,t}$, $d\\xi_t=k(\\bar{\\xi}-\\xi_t)dt+\\bar{\\sigma}\\sqrt{\\xi_t}dB_{2,t}$, $<dB_{1,t},dB_{2,t}>=\\rho dt$  \n",
    "$e^{A(t)+B(t)x_t+c(t)\\xi_t}=E_t[e^{-i\\alpha x_t}]$, A,B,C can include i  \n",
    "In $SP_1-e^{-r(T-t)}kP_2$, find equation satisfied $P_1$ and $P_2$"
   ]
  },
  {
   "cell_type": "markdown",
   "metadata": {},
   "source": [
    "### 3.\n",
    "$C(t)^{T}_{t=0}$, $X_T$  \n",
    "$dW_t=(rW_t-C_t+(\\mu-r)\\Pi_t)dt+\\sigma\\Pi_t dB_t(P)=(rW_t-C_t)dt+\\sigma\\Pi_tdB_t$(Q : Risk nuetral)  \n",
    "$\\Rightarrow W_t=E^Q[\\int^{T}_{t}e^{-r(S-t)}(C_Sd_S+e^{-rT}X_T\\mid f_t]$  \n",
    "The martingale replicati replication theorm  \n",
    "$(Y_t)$ : $F-martingale$\n",
    "$\\Rightarrow$ $a_t$ such that $E[\\int^{T}_{0}{a_t}^2dt]<\\infty$, $Y_t=Y_0+\\int^{t}_{0}a_tdBt$  \n",
    "then consider $Y_t=E^Q[\\int^{T}_{0}e^{-rS}C_SdS+e^{-rT}X_T\\mid f_t]$  \n",
    "$\\Rightarrow Y_t$ is an $F-martingale$  \n",
    "$\\Rightarrow Y_t=(\\int^{t}_{0}a_t d\\tilde{B}_t)+Y_0$  \n",
    "Let $\\Pi_t=\\frac{a_t}{\\sigma}$  \n",
    "Prove $dW_t=(rW_t-C_t)dt+\\sigma\\Pi+d\\tilde{B}_t$  \n",
    "then $dY_t=a_{\\tau}d\\tilde{B}_{\\tau}$"
   ]
  },
  {
   "cell_type": "markdown",
   "metadata": {},
   "source": [
    "### 4.The Poisson Jump  \n",
    "$(t,t+dt)$ ~ $\\lambda dt$  \n",
    "Compound Poisson Process \n",
    "$\\frac{dS_t}{S_t}=rdt+\\sigma d \\tilde{B}_t+dJ_t$, $J_t$ : Jump  \n",
    "$\\Rightarrow \\frac{1}{2}\\sigma^2S^2\\frac{\\partial^2 C}{\\partial S^2}+rS\\frac{\\partial C}{\\partial S}-rC+\\lambda(t) E[C(S,t)-C(S_t,t)]+\\frac{\\partial C}{\\partial t}=0$"
   ]
  },
  {
   "cell_type": "markdown",
   "metadata": {},
   "source": [
    "### 5.Levi Process  \n",
    "$E[e^{i\\alpha x_T}]$"
   ]
  },
  {
   "cell_type": "code",
   "execution_count": null,
   "metadata": {
    "collapsed": true
   },
   "outputs": [],
   "source": []
  }
 ],
 "metadata": {
  "kernelspec": {
   "display_name": "Python 2",
   "language": "python",
   "name": "python2"
  },
  "language_info": {
   "codemirror_mode": {
    "name": "ipython",
    "version": 2
   },
   "file_extension": ".py",
   "mimetype": "text/x-python",
   "name": "python",
   "nbconvert_exporter": "python",
   "pygments_lexer": "ipython2",
   "version": "2.7.13"
  }
 },
 "nbformat": 4,
 "nbformat_minor": 2
}
