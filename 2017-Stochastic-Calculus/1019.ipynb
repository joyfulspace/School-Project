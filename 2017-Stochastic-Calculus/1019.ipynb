{
 "cells": [
  {
   "cell_type": "markdown",
   "metadata": {},
   "source": [
    "2017.10.19 Stochastic Calculus - Jongheok Park"
   ]
  },
  {
   "cell_type": "markdown",
   "metadata": {
    "collapsed": true
   },
   "source": [
    "### The Black-Scholes Model\n",
    "\n",
    "$\\frac{dS_{t}}{S_{t}}=\\mu dt+\\sigma dB_{t}\\;(\\mu >r,\\sigma >0, \\mu,\\sigma :constant)$\n",
    "\n",
    "$\\frac{dP_{(0,t)}}{ P_{(0,t)}}= rdt$\n",
    "\n",
    "$v(s_{t},t)$ : Option price\n",
    "\n",
    "It's lemma : \n",
    "$dv(S_{t},t) = \\frac{\\partial V}{\\partial t}dt+\\frac{1}{2}\\frac{\\partial^2 V}{\\partial S^2}<dS_{t},dS_{t}>+\\frac{\\partial V}{\\partial S}dS_{t}$\n",
    "\n",
    "\n"
   ]
  },
  {
   "cell_type": "markdown",
   "metadata": {},
   "source": [
    "Portfolio 1 option-$\\frac{\\partial V}{\\partial S}$ number of share \n",
    "\n",
    "put $\\pi _{t}$\n",
    "\n",
    "$\\pi _{t}$ : riskless prtfolio over $(t, t_{tol})$\n",
    "\n",
    "$d\\pi _{t} = r \\pi _{t}dt$ : delta hedging"
   ]
  },
  {
   "cell_type": "markdown",
   "metadata": {},
   "source": [
    "## Perpetual American put option"
   ]
  },
  {
   "cell_type": "markdown",
   "metadata": {},
   "source": [
    "$\\frac{\\partial V}{\\partial t}+rS\\frac{\\partial V}{\\partial S}+\\frac{1}{2}\\sigma^2S^{2}\\frac{\\partial^2 V}{\\partial S^2}-rV=0$"
   ]
  },
  {
   "cell_type": "markdown",
   "metadata": {},
   "source": [
    "If $T=\\infty$, $\\frac{\\partial V}{\\partial t}= 0$. Although the maturity time goes infinity, the characteristic of option doesn't change."
   ]
  },
  {
   "cell_type": "markdown",
   "metadata": {},
   "source": [
    "If $\\frac{\\partial V}{\\partial t}= 0$, we can change $V(S_{T}, T)$ into $V(S_{t})$. Hence, it becomes ordinary differential equation."
   ]
  },
  {
   "cell_type": "markdown",
   "metadata": {},
   "source": [
    "$$rS\\frac{dV}{dS}+\\frac{1}{2}\\sigma^2S^{2}\\frac{d^2V}{dS^2}-rV=0$$"
   ]
  },
  {
   "cell_type": "markdown",
   "metadata": {},
   "source": [
    "$L=rS\\frac{d}{dS}+\\frac{1}{2}\\sigma^2S^{2}\\frac{d^2}{dS^2}-r$"
   ]
  },
  {
   "cell_type": "markdown",
   "metadata": {},
   "source": [
    "$L(v_{1}+v_{2})=Lv_{1}+Lv_{2}, L(\\alpha v)=\\alpha L(v)$ "
   ]
  },
  {
   "cell_type": "markdown",
   "metadata": {},
   "source": [
    "$ker(L) = \\left \\{v:Lv=0 \\right \\}$"
   ]
  },
  {
   "cell_type": "markdown",
   "metadata": {},
   "source": [
    "$dim(ker(L))$ ?  :  Discuss in the next class"
   ]
  },
  {
   "cell_type": "markdown",
   "metadata": {},
   "source": [
    "analytic form $V(S)=\\sum_{k=0}^{\\infty}a_{k}(S-S_{0})^2$"
   ]
  }
 ],
 "metadata": {
  "kernelspec": {
   "display_name": "Python 2",
   "language": "python",
   "name": "python2"
  },
  "language_info": {
   "codemirror_mode": {
    "name": "ipython",
    "version": 2
   },
   "file_extension": ".py",
   "mimetype": "text/x-python",
   "name": "python",
   "nbconvert_exporter": "python",
   "pygments_lexer": "ipython2",
   "version": "2.7.13"
  }
 },
 "nbformat": 4,
 "nbformat_minor": 2
}
