{
 "cells": [
  {
   "cell_type": "markdown",
   "metadata": {},
   "source": [
    "2017.12.07 Stochastic Calculus - Kyeonghwan Kim"
   ]
  },
  {
   "cell_type": "markdown",
   "metadata": {},
   "source": [
    "$dW_{t}=[rW_{t}-C_{t}+(\\mu -r)\\pi _{t}]dt + \\sigma\\pi_{t}dB_{t}$  \n",
    "$\\Rightarrow$ $$w_{0} = E[\\int_{0}^{T}H_{t}C_{t}dt+H_{t}W_{t}]  \\space  where \\space H_{t} = e^{-(r+\\frac{1}{2}\\sigma^{2})t-\\theta B_{t}}$$   \n",
    "More generally $W_{t} = E[\\int_{t}^{T}\\frac{H_{s}}{H_{t}}C_{s}ds+\\frac{H_{T}}{H_{t}}W_{t}\\mid f_{t}]$    \n",
    "$\\Leftrightarrow$ $$H_{t}W_{t} = E[\\int_{t}^{T}H_{s}C_{s}ds+H_{T}W_{T}\\mid f_{t}]$$"
   ]
  },
  {
   "cell_type": "markdown",
   "metadata": {
    "collapsed": true
   },
   "source": [
    "Using Measure theory  \n",
    "#### $Z_{t}$ : exponential martingale \n",
    "$$H_{t}=e^{-rt}Z_{t}$$  \n",
    "$E[Z_{t}\\mid f_{t}]=Z_{t}\\,,\\,  E[Z_{t}]=Z_{t}=1$  \n",
    "\n",
    "#### Change measure by using $Z_{t}$  \n",
    "A $\\in f_{t}  (P_{A}=E[X_{A}]) \\space \\rightarrow \\space Q(A) = E[Z_{t}X_{A}]$\n",
    "\n",
    "Q($\\Omega$)=$E[Z_{t}X_{\\Omega}]=E[Z_{t}]=1$  \n",
    "\n",
    "#### $\\Rightarrow$ Q is a probability measure"
   ]
  },
  {
   "cell_type": "markdown",
   "metadata": {},
   "source": [
    "### Fundamental pricing equation \n",
    "$$E[\\int_{t}^{T}H_{s}C_{s}ds+H_{T}W_{t}\\mid f_{t}]$$ \n",
    "At t=0,  \n",
    "$$E[\\int_{0}^{T}H_{t}C_{t}dt+H_{T}W_{T}]$$  \n",
    "= $E[\\int_{0}^{T}E[H_{t}C_{t}\\mid f_{t}]dt+H_{T}W_{T}]$  \n",
    "=  $E[\\int_{0}^{T}e^{-rt}C_{t}E[Z_{t}\\mid f_{t}]dt+e^{-rT}Z_{T}W_{T}]$  \n",
    "= $E[\\int_{0}^{T}e^{-rt}C_{t}Z_{T}dt+e^{-rT}Z_{T}W_{T}]$  \n",
    "= $E[Z_{T}(\\int_{0}^{T}e^{-rt}C_{t}dt+e^{-rT}W_{T}]$  \n",
    "= $$ E^{Q}[\\int_{0}^{T}e^{-rt}C_{t}dt+e^{-rT}W_{T}]$$  \n",
    "Q : the risk-neutral probability maesure(equivalent martingale measure)"
   ]
  },
  {
   "cell_type": "markdown",
   "metadata": {},
   "source": [
    "### Girsanov Theorem  \n",
    "$\\theta^{t}$  - f-adapted process  \n",
    "$Z_{t}=e^{-\\frac{1}{2}}\\int_{0}^{t}\\theta_{s}^{2}ds-\\int_{0}^{t}\\theta_{s}dB_{s}$: a martingale  \n",
    "define $$\\tilde{B_{t}}=B_{t}+\\int_{0}^{t}\\theta_{s}ds$$  \n",
    "A $\\in f_{t}$  Q[A]=E[$Z_{T}X_{A}$]  \n",
    "$\\tilde{B}$ is a Q-brownian motion  \n",
    "(Because of changing measure, $B_{t}$ is no longer brownian motion. $\\tilde{B_{t}}$ is a brownian motion )  \n"
   ]
  },
  {
   "cell_type": "markdown",
   "metadata": {},
   "source": [
    "$$dS_{t} = \\mu S_{t}dt+rS_{t}dB_{t}$$  \n",
    "$\\theta : constant$  \n",
    "$$\\tilde{B_{t}}=B_{t}+\\theta_{t} \\Rightarrow  B_{t}=\\tilde{B_{t}}-\\theta_{t}$$  \n",
    "$$dS_{t} = \\mu S_{t}dt+rS_{t}d(\\tilde{\\theta_{t}}-\\theta_{t})$$  \n",
    "$$dS_{t} = (\\mu-\\sigma\\theta) S_{t}dt+\\sigma S_{t}d\\tilde {B_{t}}$$  \n",
    "$$dS_{t} = rS_{t}dt+\\sigma S_{t}d\\tilde{B_{t}}$$  \n",
    "\n"
   ]
  },
  {
   "cell_type": "markdown",
   "metadata": {},
   "source": [
    "## Fundamental Pricing Equation  \n",
    "$r_{t}, \\left\\{ C_{t} \\right\\},X_{t} \\rightarrow f-adapted$  \n",
    "$$P_{t}=E^{Q}[\\int_{t}^{T}e^{-\\int_{t}^{u}r_{s}ds}C_{u}du+e^{-\\int_{t}^{T}r_{s}ds}X_{T}\\mid f_{t}]$$  \n"
   ]
  },
  {
   "cell_type": "markdown",
   "metadata": {},
   "source": [
    "### Example 1 The Black - scholed option pricing formula  \n",
    "European call $X_{T}=(S_{T}-K)^{+},C_{t}=0$     (no dividend)  \n",
    "$$P_{t}=E^{Q}[e^{-r(T-t)}(S_{T}-K)^{+}\\mid f_{t}]$$  \n",
    "$S_{T}=S_{t}e^{(r-\\frac{1}{2}\\sigma^{2})(T-t)+\\sigma(\\tilde{B}(T)-\\tilde{B}(t))}$   \n",
    "$$P_{t}=E^{Q}[e^{-r(T-t)}(S_{t}e^{(r-\\frac{1}{2}\\sigma^{2})(T-t)+\\sigma(\\tilde{B}(T)-\\tilde{B}(t))}-K)^{+}\\mid f_{t}]$$   \n",
    "If $x=\\frac{\\tilde{B}(T)-\\tilde{B}(t)}{\\sqrt{\\tau}}$,  \n",
    "<ul>\n",
    "  $S_{t}e^{(r-\\frac{1}{2}\\sigma^{2})\\tau+\\sigma\\sqrt{\\tau}x}>K$  \n",
    "  $e^{(r-\\frac{1}{2}\\sigma^{2})\\tau+\\sigma\\sqrt{\\tau}x}>\\frac{K}{S_{t}}$  \n",
    "  $(r-\\frac{1}{2}\\sigma^{2})\\tau+\\sigma\\sqrt{\\tau}x>log\\frac{K}{S_{t}}$  \n",
    "  $x>\\frac{log\\frac{K}{S_{t}}-(r-\\frac{1}{2}\\sigma^{2})\\tau}{\\sigma\\sqrt{\\tau}}={d_{1}}'$  \n",
    "</ul>   \n",
    "$$P_{t}=\\frac{1}{\\sqrt{2\\pi}}\\int_{{d_{1}}'}^{\\infty}(S_{t}e^{-r\\tau}e^{(r-\\frac{1}{2}\\sigma^{2})\\tau+\\sigma\\sqrt{\\tau}x}-e^{-r\\tau}K)e^{-\\frac{x^{2}}{2}}dx$$  \n",
    "$$=\\frac{S_{t}}{\\sqrt{2\\pi}}\\int_{{d_{1}}'}^{\\infty}e^{-\\frac{1}{2}\\sigma^{2}\\tau+\\sigma\\sqrt{\\tau}x-\\frac{x^{2}}{2}}dx-\\frac{e^{-r\\tau}K}{\\sqrt{2\\tau}}\\int_{{d_{1}}'}^{\\infty}e^{-\\frac{x^{2}}{2}}dx$$  \n",
    "$$=S_{t}\\frac{1}{\\sqrt{2\\pi}}\\int_{-\\infty}^{{-d_{1}}'}e^{-\\frac{1}{2}(x-\\tau \\sqrt{r})^{2}}dx-e^{-r\\tau}K\\frac{1}{\\sqrt{2\\tau}}\\int_{-\\infty}^{{-d_{1}}'}e^{-\\frac{x^{2}}{2}}$$  \n",
    "$$=S_{t}\\frac{1}{\\sqrt{2\\pi}}\\int_{-\\infty}^{{-d_{1}}'+\\sigma\\sqrt{\\tau}}e^{-\\frac{1}{2}{x}'^{2}}d{x}'-e^{-r\\tau}K\\,N(-{d_{1}}')$$  \n",
    "$$=S_{t}\\frac{1}{\\sqrt{2\\pi}}N(-{d_{1}}'+\\sigma\\sqrt{\\tau})-e^{-r\\tau}K\\,N(-{d_{1}}')$$  \n",
    "$-{d_{1}}'=d_{2}\\rightarrow$ \n",
    "$$P_{t}=S_{t}\\frac{1}{\\sqrt{2\\pi}}N(d_{2}+\\sigma\\sqrt{\\tau})-e^{-r\\tau}K\\,N(d_{2})$$  \n",
    "$d_{2}+\\sigma\\sqrt{\\tau}=d_{1}\\,\\,\\rightarrow$ \n",
    "$$P_{t}=S_{t}N(d_{1})-e^{-r\\tau}KN(d_{2})$$"
   ]
  },
  {
   "cell_type": "markdown",
   "metadata": {
    "collapsed": true
   },
   "source": [
    "#### The Feynman-Kac Theorem  \n",
    "$dX_{t}=\\mu(X_{T},t)dt+\\sigma(X_{t},t)dBt$  \n",
    "$P(t.X_{t})=E^{Q}[\\int_{t}^{T}e^{-\\int_{t}^{u}r(X_{t},t)}C(X_{t},t)du+e^{-\\int_{t}^{T}r(X_{t},t)}g(X_{T})\\mid f_{t}]$  \n",
    "$$\\Rightarrow \\frac{\\partial P}{\\partial t}+\\frac{1}{2}\\sigma^{2}\\frac{\\partial^2 P}{\\partial X^2}+\\mu\\frac{\\partial P}{\\partial X}-rP+c=0$$  \n",
    "$g(S_{T})=(S_{T}-K)^{+}, dS_{t}=rS_{t}dt+\\sigma S_{t}d\\tilde{B_{t}}$  \n",
    "$\\Rightarrow \\frac{\\partial P}{\\partial t}+\\frac{1}{2}\\sigma^{2}S^{2}\\frac{\\partial^2 P}{\\partial S^2}+rS\\frac{\\partial P}{\\partial S}-rP=0$ (B-S equation)   \n"
   ]
  },
  {
   "cell_type": "markdown",
   "metadata": {},
   "source": [
    "### Example2 Bond pricing  Interest Rate Model  \n",
    "zero coupon bond $\\rightarrow c=0,g(X_{T})=1$  \n",
    "$$P(t,T)=E^{Q}[e^{-\\int_{t}^{T}r_{s}ds}]$$  \n",
    "$$\\hat{r}(t,T)=\\frac{1}{T-t}log P(t.T)$$  \n"
   ]
  },
  {
   "cell_type": "markdown",
   "metadata": {},
   "source": [
    "#### 1. Markovian 1-facor Models  \n",
    "#### 1) Vasicek Model  \n",
    "$dr_{t}=K(\\bar{r}-r_{t})dt+\\sigma dB_{t},K>0$  \n",
    "$$dr_{t}=K(\\bar{r}-r_{t})dt+\\sigma d\\tilde{B_{t}}-Q measure$$  \n",
    "$\\tilde{B}_{t}=B_{t}+\\lambda_{t}$  \n",
    "$$dr_{t}=K(\\hat{r}+\\lambda-r_{t})dt+\\sigma dB_{t}$$  \n",
    "$\\hat{r}+\\lambda=\\theta$\n",
    "$dr_{t}=(\\theta-kr_{t})dt+\\sigma dB_{t}$ $\\, $(The Orinstein-Uhlenbede Process)  \n",
    "$dr_{t}+kr_{t}dt=\\theta dt+\\sigma dB_{t}$  \n",
    "$e^{Kt}(dr_{t}+kr_{t}dt)=e^{Kt}(\\theta dt+\\sigma dB_{t})$  \n",
    "$$d(e^{Kt}r_{t})=\\theta e^{Kt}dt+\\sigma e^{Kt}dB_{t}$$  \n",
    "After use $\\int_{0}^{T}$,  \n",
    "$$e^{KT}r_{T}-r_{0}=\\frac{\\theta}{K}(e^{KT}-1)+\\sigma \\int_{0}^{T}e^{Kt}dB_{t}$$  \n",
    "$$r_{T}=r_{0}e^{-KT}+\\frac{\\theta}{K}(1-e^{-KT})+\\sigma \\int_{0}^{T}e^{-K(T-t)}dB_{t}$$  \n",
    "$$r_{T} \\sim (r_{0}e^{-KT}+\\frac{\\theta}{K}(1-e^{-KT}),\\frac{1-e^{-2KT}}{2K}\\sigma^{2})$$"
   ]
  },
  {
   "cell_type": "markdown",
   "metadata": {},
   "source": [
    "#### Apply Feyman-Kac to Vasicek model\n",
    "$$P(t,T)=E^{Q}[e^{-\\int_{t}^{T}r_{s}ds}]$$  \n",
    "Feynman - Kac  \n",
    "$$\\frac{\\partial P}{\\partial t}+\\frac{1}{2}\\sigma^{2}\\frac{\\partial^2 P}{\\partial r^2}+(K\\bar{r}-r)\\frac{\\partial P}{\\partial r}-rP=0$$  \n",
    "\n",
    "#### Solution  \n",
    "Using Affine model  \n",
    "$$P(t,T)=A(\\tau)e^{B(\\tau)r_{t}}\\,\\,\\,(\\tau=T-t)$$\n",
    "\n",
    "$\\frac{\\partial P}{\\partial t}=-{A}'(\\tau)e^{B(\\tau)r_{t}}+A(\\tau)e^{B(\\tau)r_{t}}(-{B}'(\\tau)r_{t})$  \n",
    "$\\frac{\\partial P}{\\partial r}=A(\\tau)B(\\tau)e^{B(\\tau)r_{t}}$  \n",
    "$\\frac{\\partial^2 P}{\\partial r^2}=A(\\tau)B^{2}(\\tau)e^{B(\\tau)r_{t}}$  \n",
    "$$\\Rightarrow -{A}'(\\tau)e^{B(\\tau)r_{t}}+A(\\tau)e^{B(\\tau)r_{t}}(-{B}'(\\tau)r_{t})+\\frac{1}{2}\\sigma^{2}A(\\tau)B^{2}(\\tau)e^{B(\\tau)r_{t}}+(K\\bar{r}-r)A(\\tau)B(\\tau)e^{B(\\tau)r_{t}}-rA(\\tau)e^{B(\\tau)r_{t}}=0$$  \n"
   ]
  },
  {
   "cell_type": "markdown",
   "metadata": {},
   "source": [
    "#### 2) The Hull-White Model  \n",
    "$$dr_{t}=(\\theta(t)-Kr_{t})dt+\\sigma d\\tilde{B}_{t}\\,\\,\\,$$   \n",
    "\n",
    "#### 3) The Cox-Ingersoll-Ross model  \n",
    "$$dr_{t}=(\\theta-Kr_{t})dt+\\sigma \\sqrt{r_{t}}d\\tilde{B}_{t}\\,\\,\\,$$(Fell process)  \n",
    "$\\rightarrow Non-central\\,\\, X^{2}-distribution$  \n",
    "$P{t,T}=A(\\tau)e^{B(\\tau)r_{t}}$  \n",
    "*For two factor model, $<dB_{1t},dB_{2t}>=0\\,\\,$ should be satisfied to calculate. \n",
    "\n",
    "#### 2. Two factor model  \n",
    "$$r_{t}=X_{t}+Y_{t}$$  \n",
    "$$dX_{t}=(\\theta_{x}-K_{x}X_{t})dt+\\sigma_{x}dB_{1t}$$  \n",
    "$$dY_{t}=(\\theta_{y}-K_{y}Y_{t})dt+\\sigma_{y}dB_{2t}$$  \n",
    "$$<dB_{1t},dB_{2t}>=\\rho dt$$  \n",
    "$$P(t,T)=A(\\tau)e^{B_{X}(\\tau)X_{t}+B_{Y}(\\tau)Y_{t}}$$  "
   ]
  }
 ],
 "metadata": {
  "kernelspec": {
   "display_name": "Python 3",
   "language": "python",
   "name": "python3"
  },
  "language_info": {
   "codemirror_mode": {
    "name": "ipython",
    "version": 3
   },
   "file_extension": ".py",
   "mimetype": "text/x-python",
   "name": "python",
   "nbconvert_exporter": "python",
   "pygments_lexer": "ipython3",
   "version": "3.6.0"
  }
 },
 "nbformat": 4,
 "nbformat_minor": 2
}
