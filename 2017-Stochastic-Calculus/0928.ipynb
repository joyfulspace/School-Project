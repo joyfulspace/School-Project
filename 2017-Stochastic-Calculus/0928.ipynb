{
 "cells": [
  {
   "cell_type": "markdown",
   "metadata": {
    "collapsed": true
   },
   "source": [
    "2017.09.28 Stochastic Calculus - Junho Byun"
   ]
  },
  {
   "cell_type": "markdown",
   "metadata": {},
   "source": [
    "t[$* B_{t}$ is standard Brownian Motion defined on ($ \\omega$, $F_{t}$, $ \\rho$)]\n",
    "\n",
    "## Ito's Integral \n",
    "$F$ = ($F_{t}$) is gengerated by $B_{t}$  \n",
    "$a_{t}$ & $b_{t}$ are adapted to $F$  \n",
    "$\\int^{t}_{0}a_{s} dB_{s}$ = $\\lim_{\\Delta t \\rightarrow 0}$  \n",
    "$\\sum_{i=0}^{N-1}$ $a_{t_i}$ ($B_{t_{i+1}}$ - $B_{t_{i}}$)  \n",
    "$0=t_0<t_1<t_2$ ... $<t_N = t$  \n",
    "$\\Delta t$ = max ($t_{i+1}$ - $t_i$)       \n",
    "\n",
    "### Ito's process\n",
    "$$x_{t} = \\int^{t}_{0}b_{s} ds + \\int^{t}_{0}a_{s} dB_{s}$$\n",
    "<ul>\n",
    "<li>$when$ $a,b$ $is$ $constant$ , $it$ $is$ $arithmatic$ $Brownian$ $Motion$</li>  \n",
    "If $a_{s},b_{s}$ $are$ $Constant$ $\\rightarrow$ $x_{t} = b_{t} + aB_{t}$\n",
    "\n",
    "<li>$a_{s}, b_{s}$ : deterministic  </li>\n",
    "$X_{t} \\sim N(\\int^{t}_{0}b_{s} ds,\\int^{t}_{0}a_{s}^2 ds)$  \n",
    "$E[X_{t}]= E[\\int^{t}_{0}b_{s} ds + \\int^{t}_{0}a_{s} dB_{s}]$  \n",
    "<ul>\n",
    "$= \\int^{t}_{0}b_{s} ds + E[\\int^{t}_{0}a_{s} B_{s}]$  \n",
    "$= \\int^{t}_{0}b_{s} ds + \\int^{t}_{0}E[a_{s} B_{s}]$   \n",
    "$= \\int^{t}_{0}b_{s} ds$  \n",
    "</ul>\n",
    "\n",
    "$var[E_{t}] = E[\\int^{t}_{0} a_{s} dB_{s}$] =  $\\lim_{\\Delta t \\rightarrow 0}$ $\\sum a_{t_i} (t_{i+1} - t_{i})$  \n",
    "<ul>\n",
    "$= \\int^{t}_{0}a_{s}^2 ds$  \n",
    "</ul>\n",
    "</ul>\n",
    "\n",
    "$x_{t} = x_{0} + \\int^{t}_{0}b_{s} ds$  \n",
    "<ul>\n",
    "$dx_{t} = b_{t}dt$  \n",
    "$\\frac{dx_{t}}{dt} = b_{t}$ Differentiable equation \n",
    "</ul>\n",
    "$x_{t}-x_{0} = \\int^{t}_{0} \\frac{dX_{s}}{dS}$ $dS$ (Fundamental Theorem of Calculus)  \n",
    "$x_{t} = x_{0} + \\int^{t}_{0} \\frac{dX_{s}}{dS}$ = $x + \\int^{t}_{0} b_{s}ds$\n",
    "\n",
    "$\\rightarrow$ it is hard to define by fundamental Theorem, when Brownian motion has a random variable.\n",
    "\n",
    "$$dx_{t}=b_{t}dt+a_{t}dB_{t}, x_{0}=x, t \\in[0,T] \\leftrightarrow ($*) $$"
   ]
  },
  {
   "cell_type": "markdown",
   "metadata": {
    "collapsed": true
   },
   "source": [
    "cf.  $Var[a_{1}x_{1}+b_{1}x_{2}]$ = $a_{1}^2$ $var[x_{1}]$ + $b_{1}^2$ $var[x_{2}]$ + 2$a_{1}b_{1}Cov(x_{1},x_{2})$"
   ]
  },
  {
   "cell_type": "markdown",
   "metadata": {},
   "source": [
    "### Ito's lemma \n",
    "\n",
    "Stochastic diffferential equation\n",
    "\n",
    "$f \\in C^{2,1}$, $f(x,t)(\\mathbb{R}\\times[0,T])$  \n",
    "$$x_{t} = f(B_{t},t) = f(0,0)+[\\int^{t}_{0} \\frac {\\partial f}{\\partial s}(B_{s},s)+\\frac{1}{2} \\frac{\\partial^2 f}{\\partial x^2}(B_s,s)]ds + \\int^{t}_{0} \\frac {\\partial f}{\\partial x}dB_{s}$$\n",
    "\n",
    "$$dx_{t} = (\\frac{\\partial f}{\\partial t}+\\frac{1}{2} \\frac{\\partial^2 f}{\\partial x^2})dt + \\frac {\\partial f}{\\partial x}dB_{t} \\rightarrow (*) $$\n",
    "\n",
    "\n",
    "$f \\in C^{1}$ $(\\mathbb{R} \\times[0,T])$\n",
    "\n",
    "$$\\frac{df(x_{t},t)}{dt}=\\frac{\\partial f}{\\partial x} \\frac{dx_{t}}{dt}+\\frac{\\partial f}{\\partial t}$$  \n",
    "\n",
    "$$df(x_{t}) = \\frac{\\partial f}{\\partial t}dt+\\frac{\\partial f}{\\partial x}dx_{t} \\rightarrow (**) $$\n",
    "The diffrence between (*) and (**) is the presense or absence of a second order term($\\frac{1}{2} \\frac{\\partial^2 f}{\\partial x^2}$).  \n",
    "\n",
    "$X_{t}=e^{(\\mu t +\\sigma B_{t})}$ (Geometric brownian motion)  \n",
    "$f(X,t)=e^{(\\mu t+\\sigma x)}$  \n",
    "$dX_{t}=(\\mu e^{\\mu t+\\sigma B_{t}}+\\frac{\\sigma^2}{2}e^{\\mu t+\\sigma B_{t}})dt+\\sigma e^{\\mu t+\\sigma B_{t}}dB_{t}$   \n",
    "$ \\space = (\\mu +\\frac{\\sigma^2}{2})x_{t}dt+\\sigma x_{t}dB_{t}$  (X : $B_{t}$ )\n",
    "\n",
    "Arithmetic : $Y_{t}=\\mu t+\\sigma B_{t}$  \n",
    "$$dY_{t} = \\mu dt+\\sigma dB_{t}$$  \n",
    "Geometric : $X_{t} = e^{Y_{t}}$  \n",
    "$$dX_{t} = (\\mu-\\frac{1}{2}\\sigma^2)x_{t}dt+\\sigma X_{t}dB_{t}$$  \n",
    "\n",
    "$\\frac{dX_{t}}{X_{t}}=\\mu dt+\\sigma dB_{t}$ $ $ $ $ $ $ $\\frac{dS_{t}}{S_{t}}=\\mu dt+\\sigma_{t}dB_{t}$(time dependent)"
   ]
  },
  {
   "cell_type": "markdown",
   "metadata": {},
   "source": [
    "### Samuelson, Merton, Black-Scholes\n",
    "\n",
    "$$\\frac{dS_{t}}{S_{t}} = \\mu dt+\\sigma dB_{t} \\sim N(\\mu dt,\\sigma^2 dt) i.i.d$$  \n",
    "$$y_{t} = log S_{t} \\rightarrow dy_{t} = (\\mu-\\frac{1}{2}\\sigma^2)dt+\\sigma dB_{t}$$  \n",
    "$$=y_{t}=y_{0}+(\\mu-\\frac{1}{2}\\sigma^2)t+\\sigma B_{t} \\rightarrow S_{t}=e^{y_{t}}\\rightarrow e^{y_{0}}e^{(\\mu-\\frac{1}{2}\\sigma^2)t+\\sigma B_{t}}$$  \n",
    "$$=S_{0}e^{(\\mu-\\frac{1}{2}\\sigma^2)t+\\sigma B_{t}}$$  \n",
    "\n",
    "$$\\frac{dx_{t}}{x_{t}}=\\mu d_{t}+\\sigma dB_{t}$$  \n",
    "$$if \\mu = 0 \\rightarrow \\frac{dx_{t}}{x_{t}}=\\sigma dB_{t}$$  \n",
    "$$E[\\frac{dx_{t}}{x_{t}}] = E[\\sigma dB_{t}] = 0$$  \n",
    "$$\\frac{dx_{t}}{x_{t}} = \\sigma dB_{t} \\rightarrow x_{t} = x_{0}e^{-\\frac{1}{2}\\sigma d_{t}+\\sigma B_{t}}$$ (exponential Martingale) \n",
    "$$E[x_{t}]=x_{0}=1$$ (if it is Martingale)"
   ]
  },
  {
   "cell_type": "code",
   "execution_count": null,
   "metadata": {
    "collapsed": true
   },
   "outputs": [],
   "source": []
  }
 ],
 "metadata": {
  "kernelspec": {
   "display_name": "Python 2",
   "language": "python",
   "name": "python2"
  },
  "language_info": {
   "codemirror_mode": {
    "name": "ipython",
    "version": 2
   },
   "file_extension": ".py",
   "mimetype": "text/x-python",
   "name": "python",
   "nbconvert_exporter": "python",
   "pygments_lexer": "ipython2",
   "version": "2.7.13"
  }
 },
 "nbformat": 4,
 "nbformat_minor": 2
}
