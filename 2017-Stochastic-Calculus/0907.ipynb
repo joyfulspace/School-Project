{
 "cells": [
  {
   "cell_type": "markdown",
   "metadata": {},
   "source": [
    "2017.9.7. Stochastic Calculus(Lecture1) - Sangjin Ahn"
   ]
  },
  {
   "cell_type": "markdown",
   "metadata": {},
   "source": [
    "## [1] Basic Axioms of Probability Theory"
   ]
  },
  {
   "cell_type": "markdown",
   "metadata": {},
   "source": [
    "### (1) What is Probability?"
   ]
  },
  {
   "cell_type": "markdown",
   "metadata": {},
   "source": [
    "Almost everyone in our class should be familiar with the basic ideas of probability. We usually try to explain the concept as follows : \n",
    "‘Possibility of events’, ‘Measure of the likelihood that an event will occur’.\n",
    " For the further study in Mathematical Finance, It is essential to have the notion of the ‘Formal Definition’ using the axioms of probability.\n",
    " For example, Interest rates and security prices are modeled as varying randomly over time but subject to a specific probability laws."
   ]
  },
  {
   "cell_type": "markdown",
   "metadata": {},
   "source": [
    "[Definition] : Probability \n",
    "\n",
    " Probability is a (real valued) set function $P$ that assigns to each event $E$  in the sample space $\\Omega$ (The set of all possible states of the world.)\n",
    "\n",
    "a number $P(E)$, called the probability of the event $E$ , such that the following hold : \n",
    "1. The probability of any event $E$ must be non-negative, that is $P(E) >= 0$\n",
    "2. The probability of the sample space is 1, that is $P(\\Omega )=1\n",
    "$.\n",
    "3. Given mutually exclusive events $E  _{1}$ , $E  _{2}$, ... that is, where $E  _{i}  \\cap E  _{j} = \\phi $  for $i \\neq j$\n",
    " \n",
    " (Additivity) :  The probability of a union of events is the sum of probabilities of the individual events, that is: \n",
    "$P(E  _{1}  \\cup E  _{2}  \\cup ... \\cup E  _{k} )=P(E  _{1} )+P(E  _{2} )+...+P(E  _{k} )$"
   ]
  },
  {
   "cell_type": "markdown",
   "metadata": {},
   "source": [
    "(2) Probability space\n",
    "\t : The triple ($\\Omega, 𝞐,P )$ is called a probability space\n",
    "\n",
    "1) $\\sigma$-algebra 𝞐 on $\\Omega$\n",
    "\n",
    "In order to present and understand the probability axioms, We first need to introduce the concept of $\\sigma-algebras$.\n",
    "Let $\\Omega$ be an abstract space, \n",
    ", $2  ^{\\Omega }$  be the power set With 𝞐 being a collection of subsets of $\\Omega$ , We consider the following:"
   ]
  },
  {
   "cell_type": "markdown",
   "metadata": {},
   "source": [
    "[Definition] \n",
    "𝞐 is an $algebra$ if it satisfies (1), (2), (3) below, It is a $\\sigma-algebta$ if it satisfies (1), (2), (4) below.\n",
    "\n",
    "1) $\\phi \\in$ 𝞐 and $\\Omega \\in$ 𝞐\n",
    "\n",
    "2) If $A \\in$ 𝞐, then $A^{c}  \\in$𝞐\n",
    "\n",
    "3) 𝞐 is closed under finite unions and finite intersections : \n",
    "\tthat is, if $A  _{1} ,...A  _{n}$ are all $\\in$ 𝞐, then $\\cup _{i=1} ^{n} A  _{i}$ and $\\cap _{i=1} ^{n} A  _{i}$ are also in 𝞐\n",
    "\n",
    "4) 𝞐 is closed under countable unions and intersections : \n",
    "\tthat is, if $A  _{1} ,`A  _{2} `...$ are all in 𝞐, then $\\cup _{i=1} ^{n} A  _{i}$ and $\\cap _{i=1} ^{n} A  _{i}$ are also in 𝞐\n"
   ]
  },
  {
   "cell_type": "markdown",
   "metadata": {},
   "source": [
    "### 2) Probability Measure\n",
    "\n",
    "On the state space $\\Omega$, assuming that the family of all events will always be a $\\sigma$-algebra 𝞐, The probability itself is described below."
   ]
  },
  {
   "cell_type": "markdown",
   "metadata": {},
   "source": [
    "[Definition] : Probability Measure\n",
    "\n",
    "A probability measure $P$ defined on a $\\sigma$-algebra 𝞐 of $\\Omega$ is a function \n",
    "\t$P : $𝞐 $ -> [0,1]$ that satisfies :\n",
    "\n",
    "\n",
    " 1) $\\forall A \\in$ 𝞐 : $0 <= P(A) <= 1$ ,$P(\\Omega)=1$  \n",
    "\n",
    "\n",
    " 2) (Countable Additivity) \n",
    "  For every countable sequence $(A  _{n} )  _{n>=1}$ of elements in 𝞐. pair-wise disjoint\n",
    "    one has  $P( \\cup _{n=1} ^{\\infty } A  _{n} )= \\sum _{n=1} ^{\\infty} P(A  _{n} )$ \n"
   ]
  },
  {
   "cell_type": "markdown",
   "metadata": {},
   "source": [
    "## [2] Stochastic Process\n",
    "\n",
    "Stochastic process is useful for many aspects of Financial Engineering. \n",
    "such as derivatives pricing, risk management and so on. They can be done by simulating multiple outcomes from a stochastic process."
   ]
  },
  {
   "cell_type": "markdown",
   "metadata": {},
   "source": [
    "[Definition] : Stochastic Process \n",
    "\n",
    "For a given probability space $(\\Omega,F, P)$, and a measurable space$(S, \\Sigma)$, \n",
    "A stochastic process is a $S$-valued random variables, which can be written as \t\n",
    "{$   X(t): t \\in T $}\n",
    "\n",
    "\n",
    "Roughly speaking, It is a mathematical object usually defined as a collection of random variables that are associated with or indexed by set of numbers usually viewed as points in Time, "
   ]
  },
  {
   "cell_type": "markdown",
   "metadata": {
    "collapsed": true
   },
   "source": [
    "### (2) Filtration\n",
    "\n",
    "A filtration is often used to represent the change in the set of events that can be measured through gain or loss of information. "
   ]
  },
  {
   "cell_type": "markdown",
   "metadata": {
    "collapsed": true
   },
   "source": [
    "[Definition] : Filtration\n",
    "\n",
    "In the theory of stochastic process, a filtration $F$ is an increasing sequence of $\\sigma -algebra$s on a measurable space. That is, Given a measurable space$(\\Omega, F)$ , a filtration is a sequence of  $\\sigma -algebras$ $ {  \\left \\{ F  _{t} \\right \\}}  _{t \\geqslant  0}$ with $F  _{t}  \\subseteq F$ where each $t$ is a non-negative real number and $t  _{1} \\leqslant t  _{2}  \\Rightarrow  F  _{t  _{1}}  \\subseteq F  _{t  _{2}}$."
   ]
  },
  {
   "cell_type": "markdown",
   "metadata": {
    "collapsed": true
   },
   "source": [
    "2) Filtration in Mathematical Finance\n",
    "\n",
    "A filtration represents the information available up to and including each time $t$, and is more and more precise \n",
    " as more information from the evolution of the asset price becomes available. \n",
    "\n",
    "3) Example : Coin-tossing space\n",
    "\n",
    " Let’s look at a coin-tossing process. It seems like a kind of trivial problem. However, It is important to grasp the basic logic of the problem. It corresponds to the up/down movement of the asset prices.\n",
    "\n",
    "We want to construct a probability measure corresponding to the random experiment of tossing a coin.\n",
    "\n",
    "a. Each coin tosses is independent and identically distributed.\n",
    "\n",
    "b. We define $\\Omega  _{\\infty}$ = The set of infinite sequences of $H$s and $T$s\n",
    "\n",
    "c. Seemingly 1/2, We assume the probability of each side(head/tail) be\n",
    "\t $p$ and $q$(=1-p)"
   ]
  },
  {
   "cell_type": "markdown",
   "metadata": {
    "collapsed": true
   },
   "source": [
    "We first define $P( \\phi )=0$, and $P( \\Omega )=1$. These 2 sets form a $\\sigma -algebra$ which we call $F_{0}$\n",
    "\t  , $F _{0} = \\left \\{ \\phi , \\Omega \\right \\}$\n",
    "    \n",
    "We next define  and P for the two sets\n",
    "\n",
    "$A_{H}$\n",
    "the set of all sequences beginning with , \n",
    "$H= \\left \\{ w:w  _{1} =H \\right \\}$\n",
    "\n",
    "$A_{T}$\n",
    "the set of all sequences beginning with ,  $T= \\left \\{ w:w  _{1} =T \\right \\}$\n",
    "\n",
    "by setting $P(A_{H})=p$, $P(A_{T})=q$. We have now defined $P$ for 4 sets.\n",
    "And these four sets form a $\\sigma-algebra$ . We call this a $\\sigma-algebra F_{1}$\n",
    "\n",
    "$F_{1} =$ { $\\phi, \\Omega, A_{H}, A_{T}$ }\n",
    "\n",
    "We next define P for the four sets\n",
    "\n",
    "$A_{HH}$\n",
    "the set of all sequences beginning with ,  $HH= \\left \\{ w:w  _{1} =H, w_{2}=H \\right \\}$\n",
    "\n",
    "$A_{HT}$\n",
    "the set of all sequences beginning with ,  $HT= \\left \\{ w:w  _{1} =H, w_{2}=T \\right \\}$\n",
    "\n",
    "$A_{TH}$\n",
    "the set of all sequences beginning with ,  $TH= \\left \\{ w:w  _{1} =T, w_{2}=H \\right \\}$\n",
    "\n",
    "$A_{TT}$\n",
    "the set of all sequences beginning with ,  $TT= \\left \\{ w:w  _{1} =T, w_{2}=T \\right \\}$\n",
    "\n",
    "\n",
    "\n",
    "\n",
    "\n",
    "by setting  $P(A_{HH})=p^{2},P(A_{HT})=pq,P(A_{HH})=pq,P(A_{HH})=q^{2} $\n",
    "\n",
    "Taking into consideration of the probability of union and complements, \n",
    " We use the ‘Additivity’ and $P(A^{c}) = 1-P(A)$. Therefore, the probability of complements $A_{HH}^c,A_{HT}^c, A_{TH}^c, A_{TT}^c $  union , $A_{HH} \\cup A_{HT} = A_{H}, A_{TH} \\cup A_{TT} = A_{T}$\n",
    "\n",
    "At this point, We have determined the probability of 16 sets. and these sets form a $\\sigma-algebra$ which we call $F_{2}$ "
   ]
  },
  {
   "cell_type": "markdown",
   "metadata": {
    "collapsed": true
   },
   "source": [
    "4) Multi-period Binomial Model\n",
    "\n",
    "We can extend the ideas in coin-tossing problem to a Binomial asset pricing model. \n",
    "We toss a coin repeatedly and whenever we get a head, the stock price moves “up” by the factor $u$,\n",
    "whereas whenever we get a tail, the stock price moves “down” by the factor $d$.\n",
    "We denote the initial Stock price by$S_{0}$ , which is positive, We denote the price at time one by $S_{1}(H) = uS_{0}$\n",
    "If the first toss results in head and by $S_{1}(T)=dS_{0}$ if the first toss results in tail. After 3 tosses, there are $2^{3}$  possible outcomes.\n"
   ]
  },
  {
   "cell_type": "markdown",
   "metadata": {
    "collapsed": true
   },
   "source": [
    "[3] References\n",
    "\n",
    "-Jean Jacod Philip Protter, Probability Essentials, Springer (chap1)\n",
    "\n",
    "-Steven E. Shreve, Stochastic Calculus for Finance, Springer (chap1)\n",
    "\n",
    "-Wikipedia [Probability], [Stochastic Process], [Filtration] "
   ]
  }
 ],
 "metadata": {
  "kernelspec": {
   "display_name": "Python 3",
   "language": "python",
   "name": "python3"
  },
  "language_info": {
   "codemirror_mode": {
    "name": "ipython",
    "version": 3
   },
   "file_extension": ".py",
   "mimetype": "text/x-python",
   "name": "python",
   "nbconvert_exporter": "python",
   "pygments_lexer": "ipython3",
   "version": "3.6.0"
  }
 },
 "nbformat": 4,
 "nbformat_minor": 2
}
