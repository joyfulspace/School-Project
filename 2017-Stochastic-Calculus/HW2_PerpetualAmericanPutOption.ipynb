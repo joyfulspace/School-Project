{
 "cells": [
  {
   "cell_type": "code",
   "execution_count": 56,
   "metadata": {
    "collapsed": false,
    "scrolled": true
   },
   "outputs": [
    {
     "data": {
      "image/png": "[encoded data removed]",
      "text/plain": [
       "<matplotlib.figure.Figure at 0x1f94f28f5f8>"
      ]
     },
     "metadata": {},
     "output_type": "display_data"
    }
   ],
   "source": [
    "import math\n",
    "import matplotlib.pyplot as plt\n",
    "\n",
    "# 1. Define parameters\n",
    "sigma = 0.25 #volatility\n",
    "r = 0.03 #interest rate\n",
    "K = 2.5 #strike price\n",
    "\n",
    "N = 1000.\n",
    "L = 10.\n",
    "S = [0]# asset price\n",
    "S_at = 2*r*K/(math.pow(sigma,2)+2*r) #asset price after exercise\n",
    "\n",
    "# Perpetual American Put Option value\n",
    "V = [K] # S=0 -> V=K\n",
    "s = 0\n",
    "for i in range(int(N)):\n",
    "    s += L/N\n",
    "    S.append(float(format(s, '.2f'))) #부동소수점 문제 해결\n",
    "    if S[i] >= S_at:\n",
    "        v = math.pow(sigma,2)/(math.pow(sigma,2)+2*r)*K*pow((2*r*K/(math.pow(sigma,2)+2*r)),(2*r/math.pow(sigma,2)))*pow(S[i],(-2*r/math.pow(sigma,2)))\n",
    "    else:\n",
    "        v = K-S[i]\n",
    "    V.append(v)\n",
    "\n",
    "# 그래프 그리기\n",
    "plt1 = plt.subplot(111)\n",
    "plt1.plot(S, V, '-', label = 'Perpetual American Put Option')\n",
    "plt1.set_xlabel('Underlying asset')\n",
    "plt1.set_ylabel('Option Value')\n",
    "plt.title('Option Value of Perpetual American Put Option')\n",
    "\n",
    "plt.show()\n"
   ]
  },
  {
   "cell_type": "markdown",
   "metadata": {},
   "source": [
    "S0 : 0  \n",
    "sigma : 0.25  \n",
    "r : 0.03  \n",
    "K : 2.5  \n",
    "S* : 2rK/(sigma^2+2r) = 1.22 (Stock price after exercising option)  \n",
    "The payoff graph is still smooth after exercise."
   ]
  },
  {
   "cell_type": "code",
   "execution_count": null,
   "metadata": {
    "collapsed": true
   },
   "outputs": [],
   "source": []
  }
 ],
 "metadata": {
  "kernelspec": {
   "display_name": "Python 3",
   "language": "python",
   "name": "python3"
  },
  "language_info": {
   "codemirror_mode": {
    "name": "ipython",
    "version": 3
   },
   "file_extension": ".py",
   "mimetype": "text/x-python",
   "name": "python",
   "nbconvert_exporter": "python",
   "pygments_lexer": "ipython3",
   "version": "3.6.0"
  }
 },
 "nbformat": 4,
 "nbformat_minor": 2
}
