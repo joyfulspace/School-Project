{
 "cells": [
  {
   "cell_type": "markdown",
   "metadata": {},
   "source": [
    "20170923 Stochastic Calculus - Yujin Baek"
   ]
  },
  {
   "cell_type": "markdown",
   "metadata": {},
   "source": [
    "### Wiener Measure\n",
    "\n",
    "- Sample paths are nowhere differentiable (a.s)<br>\n",
    "- Total variation over brownian motion over [a,b] is $\\infty$&nbsp;(a<b)"
   ]
  },
  {
   "cell_type": "markdown",
   "metadata": {},
   "source": [
    "***\n",
    "$\\star$&nbsp;Let $g: [a,b] \\rightarrow \\mathbb{R} $, <br>\n",
    "Then, the total variation(TV) of $g$ over $[a,b]$ is defined as<br>\n",
    "\n",
    "$$TV \\equiv \\sup \\sum_{i=0}^{N}\\left|g\\left(X_{i+1}\\right)-g\\left(X_{i}\\right)\\right|$$<br> \n",
    "where $a\\leq X_{0}\\leq X_{1}, \\cdots ,X_{N}\\leq b $<br><br><br>\n",
    "$\\star$&nbsp;A function $g:[a,b]\\rightarrow \\mathbb{R}$ is *of bounded variation*, &nbsp;&nbsp;if $TV<\\infty$\n",
    "\n",
    "- Suppose $g$ is monotone increasing(or decreasing),<br><br>\n",
    "$x\\leq y \\Rightarrow g\\left(x\\right)\\leq g\\left(y\\right)$<br>\n",
    "$x\\geq y \\Rightarrow g\\left(x\\right)\\geq g\\left(y\\right)$"
   ]
  },
  {
   "cell_type": "markdown",
   "metadata": {},
   "source": [
    "$$\\sum_{i=0}^{N-1} \\left|g\\left(X_{i+1}\\right)-g\\left(X_{i}\\right)\\right|$$<br>\n",
    "$$=\\sum_{i=0}^{N-1}\\left(g\\left(X_{i+1}\\right)-g\\left(X_{i}\\right)\\right)$$<br>\n",
    "$$=g\\left(X_{N}\\right)-g\\left(X_{0}\\right)$$<br>\n",
    "$$\\leq g\\left(b\\right)-g\\left(a\\right)<\\infty$$<br>"
   ]
  },
  {
   "cell_type": "markdown",
   "metadata": {},
   "source": [
    "\n",
    "**_[THEOREM]_**<br><br> $\\star$&nbsp;Suppose $g: [a,b] \\rightarrow \\mathbb{R} $,<br><br>\n",
    "$g$ is *of bounded variation* $\\Leftrightarrow \\exists g_{1}, g_{2}:$monotone increasing $s.t. g=g_{1}-g_{2}$<br><br>\n"
   ]
  },
  {
   "cell_type": "markdown",
   "metadata": {},
   "source": [
    "### Brownian Motion\n",
    "\n",
    "- Brownian Motion is a *martingale*:<br>\n",
    "$s>t$<br>\n",
    "$E\\left[B_{s}|\\mathcal{F}_{t}\\right]=B_{t}$<br><br>\n",
    "\n",
    "- *Proof*<br>\n",
    "$E\\left[B_{s}|\\mathcal{F}_{t}\\right]$<br>\n",
    "$=E\\left[\\left(B_{s}-B_{t}+B_{t}\\right)|\\mathcal{F}_{t}\\right]$<br>\n",
    "$=E\\left[\\left(B_{s}-B_{t}\\right)|\\mathcal{F}_{t}\\right]+E\\left[B_{t}|\\mathcal{F}_{t}\\right]$<br>\n",
    "$=0 + B_{t}$<br>\n",
    "$=B_{t}$<br><br>\n",
    "\n",
    "> *cf.*&nbsp;<br>\n",
    "$B_{0}=0$<br>\n",
    "$B_{s}-B_{t},$&nbsp;&nbsp;$B_{t}-B_{0} :$&nbsp; independent <br>\n",
    "$B_{s}-B_{t}$&nbsp;  $\\sim N\\left(0,s-t\\right)$"
   ]
  },
  {
   "cell_type": "markdown",
   "metadata": {},
   "source": [
    "#### Arithmetic Brownian Motion<br>\n",
    "$X_{t} = a\\cdot t+b\\cdot B_{t}$&nbsp;&nbsp;&nbsp;&nbsp;$\\left(a,b : constant\\right)$<br>\n",
    "<br>\n",
    "$B_{t} \\sim N\\left(0,t\\right)$<br>\n",
    "$X_{t} \\sim N\\left(at, b^{2}t\\right)$<br>"
   ]
  },
  {
   "cell_type": "markdown",
   "metadata": {},
   "source": [
    "<br>\n",
    "1. $t\\rightarrow \\infty$<br><br>\n",
    "$\\lim_{t\\rightarrow \\infty}\\frac{b\\sqrt{t}}{at}=0$<br><br>\n",
    "<br>\n",
    "2. $\\Delta t\\rightarrow 0$<br><br>\n",
    "$\\lim_{\\Delta t\\rightarrow 0}\\frac{a\\Delta t}{b\\sqrt{\\Delta t}}=0$<br><br>\n",
    "> *cf.&nbsp;* $X_{t+\\Delta t}-X_{t} = a\\Delta t+b\\left(B_{t+\\Delta t}-B_{t}\\right)$<br><br>\n",
    "$B_{t+\\Delta t}-B_{t} \\sim N\\left(0,\\Delta t\\right)$<br>\n",
    "$X_{t+\\Delta t}-X_{t} \\sim N\\left(a\\Delta t, b^{2}\\Delta t\\right)$<br><br>\n"
   ]
  },
  {
   "cell_type": "markdown",
   "metadata": {},
   "source": [
    "#### Geometric Brownian Motion<br>\n",
    "$X_{t} = \\exp \\left(at+\\sigma B_{t}\\right)$<br><br>\n",
    "$X_{t}$ is *lognormally distributed*\n",
    "<br>\n",
    "<br>\n",
    "\n",
    "> $\\sigma$&nbsp;(constant) $\\longrightarrow \\sigma_{t}$&nbsp;(stochastic)<br><br>\n",
    "$X_{t}=at+\\int_{0}^{t}\\sigma_{s}dB_{s}$"
   ]
  },
  {
   "cell_type": "markdown",
   "metadata": {},
   "source": [
    "#### Wiener integral<br><br>\n",
    "(1) $h: [0,T] \\rightarrow \\mathbb{R}$<br><br>\n",
    "assume that $h$ is continuous, $0\\leq t_{0}\\leq t_{1}, \\cdots ,t_{N}\\leq T $<br><br>\n",
    "<br>\n",
    ">$\\int_{0}^{T}h\\left(t\\right)dB_{t}$<br><br>\n",
    "$\\equiv \\lim_{N\\rightarrow \\infty}\\sum_{t=0}^{N-1}h\\left(t_{i}\\right)\\left(B_{t_{i+1}}-B_{t_{i}}\\right)$<br><br>\n",
    "$= \\lim_{N\\rightarrow \\infty}\\sum_{t=0}^{N-1}h\\left(s_{i}\\right)\\left(B_{t_{i+1}}-B_{t_{i}}\\right)$&nbsp;&nbsp; for $s_{i}\\in \\left[t_{i+1},t_{i}\\right]$<br><br>"
   ]
  },
  {
   "cell_type": "markdown",
   "metadata": {},
   "source": [
    "(2) $h:\\Omega \\times [0,T] \\rightarrow \\mathbb{R}$<br><br>\n",
    "> $\\int_{0}^{T}h_{t}dB_{t} \\equiv \\lim_{N\\rightarrow \\infty}\\sum_{t=0}^{N-1}h_{s_{i}}\\left(B_{t_{i+1}}-B_{t_{i}}\\right)$<br><br>\n",
    "*$ {\\color{Orange} \\star} s_{i}$값을 어떻게 잡느냐에 따라 수렴하는 값이 달라짐*"
   ]
  },
  {
   "cell_type": "markdown",
   "metadata": {},
   "source": [
    "> \n",
    "#### Stratanovic Integral<br><br>\n",
    "$\\oint_{0}^{T}h_{t}dB_{t} \\equiv lim_{N\\rightarrow \\infty}\\sum_{i=0}^{N-1}h_{\\frac{t_{i+1}+t_{i}}{2}}\\left(B_{t\n",
    "_{i+1}}-B_{t_{i}}\\right)$<br>"
   ]
  },
  {
   "cell_type": "markdown",
   "metadata": {},
   "source": [
    "> \n",
    "#### Itô Integral<br><br>\n",
    "$\\int_{0}^{T}h_{t}dB_{t} \\equiv lim_{N\\rightarrow \\infty}\\sum_{i=0}^{N-1}h_{t_{i}}\\left(B_{t\n",
    "_{i+1}}-B_{t_{i}}\\right)$<br>"
   ]
  }
 ],
 "metadata": {
  "kernelspec": {
   "display_name": "Python 3",
   "language": "python",
   "name": "python3"
  },
  "language_info": {
   "codemirror_mode": {
    "name": "ipython",
    "version": 3
   },
   "file_extension": ".py",
   "mimetype": "text/x-python",
   "name": "python",
   "nbconvert_exporter": "python",
   "pygments_lexer": "ipython3",
   "version": "3.6.0"
  }
 },
 "nbformat": 4,
 "nbformat_minor": 2
}
